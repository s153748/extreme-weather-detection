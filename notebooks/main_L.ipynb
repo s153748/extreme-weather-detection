{
 "cells": [
  {
   "cell_type": "markdown",
   "metadata": {},
   "source": [
    "**MASTER THESIS PROJECT**\n",
    "\n",
    "*Identification and Exploration of Extreme Weather Events From Twitter Data*"
   ]
  },
  {
   "cell_type": "markdown",
   "metadata": {},
   "source": [
    "# Imports"
   ]
  },
  {
   "cell_type": "code",
   "execution_count": 26,
   "metadata": {
    "ExecuteTime": {
     "end_time": "2021-05-03T09:59:38.012401Z",
     "start_time": "2021-05-03T09:59:37.983262Z"
    }
   },
   "outputs": [],
   "source": [
    "from __future__ import division, print_function\n",
    "import pandas as pd\n",
    "import numpy as np\n",
    "from urllib.request import urlopen\n",
    "import requests\n",
    "import re\n",
    "import ast \n",
    "from ast import literal_eval\n",
    "import json\n",
    "import os\n",
    "import string  \n",
    "import math\n",
    "import random\n",
    "import calendar\n",
    "import matplotlib.pyplot as plt\n",
    "from jupyterthemes import jtplot\n",
    "import seaborn as sns\n",
    "from seaborn import color_palette\n",
    "import nltk\n",
    "from nltk.corpus import stopwords\n",
    "from nltk.stem import WordNetLemmatizer\n",
    "from nltk.probability import FreqDist\n",
    "import collections\n",
    "from googletrans import Translator\n",
    "import altair as alt \n",
    "from geopy.geocoders import Nominatim\n",
    "from geopy.extra.rate_limiter import RateLimiter\n",
    "from tqdm import tqdm\n",
    "import folium\n",
    "from folium import FeatureGroup, LayerControl, plugins, Map, Marker\n",
    "from folium.plugins import FastMarkerCluster, MarkerCluster\n",
    "from sklearn.feature_extraction.text import TfidfVectorizer\n",
    "from sklearn.model_selection import train_test_split\n",
    "from sklearn.dummy import DummyClassifier\n",
    "from sklearn.linear_model import LogisticRegression\n",
    "from sklearn.naive_bayes import MultinomialNB\n",
    "from sklearn.metrics import confusion_matrix\n",
    "from nltk import word_tokenize\n",
    "from gensim import models\n",
    "from keras.callbacks import ModelCheckpoint\n",
    "from keras.layers import Dense, Dropout, Reshape, Flatten, concatenate, Input, Conv1D, GlobalMaxPooling1D, Embedding, SimpleRNN\n",
    "from keras.layers.recurrent import LSTM\n",
    "from keras.models import Sequential\n",
    "from keras.preprocessing.text import Tokenizer\n",
    "from keras.preprocessing.sequence import pad_sequences\n",
    "from keras.models import Model\n",
    "from keras.backend import clear_session\n",
    "import spacy\n",
    "from spacymoji import Emoji\n",
    "import keplergl\n",
    "from keplergl import KeplerGl\n",
    "import dash\n",
    "import dash_bootstrap_components as dbc\n",
    "import dash_core_components as dcc\n",
    "import dash_html_components as html\n",
    "from jupyter_dash import JupyterDash\n",
    "from dash.dependencies import Input, Output, ClientsideFunction, State\n",
    "from dash.exceptions import PreventUpdate\n",
    "import pathlib\n",
    "from flask import request\n",
    "import plotly.figure_factory as ff\n",
    "import plotly.express as px\n",
    "import plotly.graph_objects as go\n",
    "import textwrap\n",
    "from ipywidgets import widgets\n",
    "import warnings\n",
    "warnings.filterwarnings(\"ignore\")\n",
    "%matplotlib notebook"
   ]
  },
  {
   "cell_type": "markdown",
   "metadata": {},
   "source": [
    "# Load data"
   ]
  },
  {
   "cell_type": "code",
   "execution_count": 3,
   "metadata": {
    "ExecuteTime": {
     "end_time": "2021-05-03T09:48:34.166471Z",
     "start_time": "2021-05-03T09:48:33.167425Z"
    }
   },
   "outputs": [],
   "source": [
    "# load data\n",
    "df = pd.read_csv('data/random_coords.csv') # final_tweets"
   ]
  },
  {
   "cell_type": "code",
   "execution_count": null,
   "metadata": {},
   "outputs": [],
   "source": [
    "df.dropna(subset=['tokens'],inplace=True)\n",
    "df['tokens'] = [literal_eval(s) for s in df['tokens']]\n",
    "for i in range(len(df)):\n",
    "    try:\n",
    "        df['geo'][i] = eval(df['geo'][i])\n",
    "    except:\n",
    "        df['geo'][i] = np.nan\n",
    "    try:\n",
    "        df['place'][i] = eval(df['place'][i])\n",
    "    except:\n",
    "        df['place'][i] = np.nan"
   ]
  },
  {
   "cell_type": "code",
   "execution_count": 5,
   "metadata": {
    "ExecuteTime": {
     "end_time": "2021-05-03T09:48:54.609901Z",
     "start_time": "2021-05-03T09:48:54.606061Z"
    }
   },
   "outputs": [
    {
     "data": {
      "text/plain": [
       "Index(['tweet_id', 'tweet_link', 'full_text', 'tokens', 'hashtags', 'user_id',\n",
       "       'user_name', 'geo', 'coordinates', 'place', 'location_type', 'centers',\n",
       "       'relevant', 'user_location', 'created_at', 'date', 'created_at_year',\n",
       "       'created_at_month', 'created_at_weekday', 'original_tweet_id',\n",
       "       'retweeted', 'first_tweet', 'retweet_count', 'geoparsing',\n",
       "       'geoparsing_count', 'user_location_lower', 'gp_coords',\n",
       "       'user_coordinates', 'gp_coords1', 'distance', 'final_coords2',\n",
       "       'final_coords_type', 'final_coords_str', 'final_coords', 'lat', 'lon'],\n",
       "      dtype='object')"
      ]
     },
     "execution_count": 5,
     "metadata": {},
     "output_type": "execute_result"
    }
   ],
   "source": [
    "df.columns"
   ]
  },
  {
   "cell_type": "markdown",
   "metadata": {},
   "source": [
    "# Data pre-processing"
   ]
  },
  {
   "cell_type": "markdown",
   "metadata": {},
   "source": [
    "CrisislexT6: https://crisislex.org/data-collections.html#CrisisLexT6\n",
    "\n",
    "1. Alberta floods https://en.wikipedia.org/wiki/2013_Alberta_floods \n",
    "2. Queensland floods https://en.wikipedia.org/wiki/Cyclone_Oswald\n"
   ]
  },
  {
   "cell_type": "code",
   "execution_count": null,
   "metadata": {
    "ExecuteTime": {
     "end_time": "2021-04-18T14:01:20.866201Z",
     "start_time": "2021-04-18T14:01:17.266868Z"
    }
   },
   "outputs": [],
   "source": [
    "# load json with tweets\n",
    "floods = ['2013_Alberta_floods','2013_Queensland_floods'] # use cases\n",
    "\n",
    "tweets_df = pd.DataFrame()\n",
    "for flood in floods:\n",
    "\n",
    "    df1 = pd.read_json(f'data/CrisisLexT6/{flood}_ids.json', lines=True)\n",
    "    # rename\n",
    "    df2 = df1.rename(columns={'id': 'tweet_id','is_quote_status':'quoted', 'in_reply_to_status_id':'reply_tweet_id'})\n",
    "    # add variable for area\n",
    "    area = flood.split('_')[1]\n",
    "    df2['area'] = len(df2)*[area]\n",
    "    tweets_df = pd.concat([tweets_df, df2])\n",
    "\n",
    "# drop irrelevant columns\n",
    "tweets_df.drop(['id_str','possibly_sensitive','entities','extended_entities','contributors','display_text_range','truncated','in_reply_to_status_id_str', 'in_reply_to_user_id', 'in_reply_to_user_id_str', 'in_reply_to_screen_name'], axis=1, inplace=True)\n",
    "\n",
    "print(f'Number of tweets: {len(tweets_df)}')\n",
    "tweets_df.head(1)"
   ]
  },
  {
   "cell_type": "code",
   "execution_count": null,
   "metadata": {
    "ExecuteTime": {
     "end_time": "2021-04-18T14:01:20.887845Z",
     "start_time": "2021-04-18T14:01:20.868230Z"
    }
   },
   "outputs": [],
   "source": [
    "tweets_df.info()"
   ]
  },
  {
   "cell_type": "code",
   "execution_count": null,
   "metadata": {
    "ExecuteTime": {
     "end_time": "2021-04-18T14:01:20.986958Z",
     "start_time": "2021-04-18T14:01:20.890538Z"
    }
   },
   "outputs": [],
   "source": [
    "# load csv with labels for tweets\n",
    "labels_df = pd.DataFrame()\n",
    "\n",
    "for flood in floods:\n",
    "    df1 = pd.read_csv(f'data/CrisisLexT6/{flood}.csv')\n",
    "    df1['tweet_id'] = [int(t[1]) for t in df1['tweet id'].str.split(\"'\")]\n",
    "    labels_df = pd.concat([labels_df, df1])\n",
    "\n",
    "labels_df = labels_df[labels_df.columns[2:]]\n",
    "labels_df = labels_df.rename(columns={' label': 'relevant'})\n",
    "labels_df = labels_df.replace('off-topic', 0).replace('on-topic', 1)\n",
    "labels_df = labels_df[labels_df['tweet_id'].isin(tweets_df['tweet_id'])]\n",
    "\n",
    "print(f'Number of tweets: {len(labels_df)}')\n",
    "labels_df.head(3)"
   ]
  },
  {
   "cell_type": "code",
   "execution_count": null,
   "metadata": {
    "ExecuteTime": {
     "end_time": "2021-04-18T14:01:21.275526Z",
     "start_time": "2021-04-18T14:01:20.989877Z"
    }
   },
   "outputs": [],
   "source": [
    "# merge tweets with their labels \n",
    "df_join = pd.merge(tweets_df, labels_df, on='tweet_id', how='inner').reset_index(drop=True)\n",
    "df_join['user_id'] = [df_join['user'][i]['id'] for i in range(len(df_join))]"
   ]
  },
  {
   "cell_type": "code",
   "execution_count": null,
   "metadata": {
    "ExecuteTime": {
     "end_time": "2021-04-18T14:01:21.283984Z",
     "start_time": "2021-04-18T14:01:21.277660Z"
    },
    "scrolled": true
   },
   "outputs": [],
   "source": [
    "df_join['user'][0]"
   ]
  },
  {
   "cell_type": "code",
   "execution_count": null,
   "metadata": {
    "ExecuteTime": {
     "end_time": "2021-04-18T14:01:21.773390Z",
     "start_time": "2021-04-18T14:01:21.285530Z"
    }
   },
   "outputs": [],
   "source": [
    "# get user information\n",
    "users = [df_join['user'][i] for i in range(len(df_join))]\n",
    "df_users = pd.DataFrame(users)\n",
    "cols = ['id', 'name', 'screen_name', 'location', 'description', 'url', 'followers_count', \n",
    "        'friends_count', 'favourites_count', 'verified', 'statuses_count']\n",
    "df_users = df_users[cols].drop_duplicates().reset_index(drop=True)\n",
    "df_users = df_users.rename(columns={'id': 'user_id', 'name': 'user_name', 'screen_name': 'user_screen_name', \n",
    "                                    'location': 'user_location', 'description': 'user_description', 'url': 'user_url',\n",
    "                                    'followers_count':'user_followers_count', 'friends_count':'user_friends_count',\n",
    "                                    'favourites_count':'user_favourites_count', 'verified':'user_verified', 'statuses_count':'user_statuses_count'})\n",
    "df_users.head(1)"
   ]
  },
  {
   "cell_type": "code",
   "execution_count": null,
   "metadata": {
    "ExecuteTime": {
     "end_time": "2021-04-18T14:01:22.460135Z",
     "start_time": "2021-04-18T14:01:22.383401Z"
    }
   },
   "outputs": [],
   "source": [
    "# merge tweets with user information\n",
    "df = pd.merge(df_join, df_users, how='inner', on='user_id').reset_index(drop=True)\n",
    "df = df.replace(r'', np.NaN)\n",
    "df.head(1)"
   ]
  },
  {
   "cell_type": "code",
   "execution_count": null,
   "metadata": {
    "ExecuteTime": {
     "end_time": "2021-04-18T14:01:23.082785Z",
     "start_time": "2021-04-18T14:01:23.049749Z"
    }
   },
   "outputs": [],
   "source": [
    "df.info()"
   ]
  },
  {
   "cell_type": "code",
   "execution_count": null,
   "metadata": {
    "ExecuteTime": {
     "end_time": "2021-04-18T14:01:23.446966Z",
     "start_time": "2021-04-18T14:01:23.429693Z"
    }
   },
   "outputs": [],
   "source": [
    "# remove duplicates of tweet_id\n",
    "try: \n",
    "    before = len(df)\n",
    "    df_drop = df.drop_duplicates(subset='tweet_id').reset_index(drop=True)\n",
    "    print(f'Number of duplicates removed: {before-len(df_drop)}')\n",
    "except:\n",
    "    print('No duplicates found')\n",
    "df = df_drop"
   ]
  },
  {
   "cell_type": "code",
   "execution_count": null,
   "metadata": {
    "ExecuteTime": {
     "end_time": "2021-04-18T14:01:25.210253Z",
     "start_time": "2021-04-18T14:01:25.191388Z"
    }
   },
   "outputs": [],
   "source": [
    "# filter on English tweets only\n",
    "df = df[df['lang']=='en'].reset_index(drop=True)\n",
    "print(f'Number of English tweets: {len(df)}')"
   ]
  },
  {
   "cell_type": "code",
   "execution_count": null,
   "metadata": {
    "ExecuteTime": {
     "end_time": "2021-04-18T14:02:59.689150Z",
     "start_time": "2021-04-18T14:01:26.726630Z"
    }
   },
   "outputs": [],
   "source": [
    "# tokenization of tweet text\n",
    "df_token = df\n",
    "df_token['tokens'] = \"\"\n",
    "\n",
    "# for tokenization of emojies\n",
    "nlp_spacymoji = spacy.load(\"en_core_web_sm\")\n",
    "emoji = Emoji(nlp_spacymoji, merge_spans=True)\n",
    "nlp_spacymoji.add_pipe(emoji, first=True)\n",
    "\n",
    "for i,content in enumerate(df_token['full_text']):\n",
    "    if content:\n",
    "        txt = content.translate(str.maketrans('', '', string.punctuation)) # remove punctuations\n",
    "        doc = nlp_spacymoji(txt) # handle emojies \n",
    "        text = [token.text for token in doc] # split to tokens\n",
    "        words1 = [t.lower() for t in text] # lower letters\n",
    "        sw = stopwords.words(\"english\") # set stopwords\n",
    "        words2 = [t for t in words1 if t not in sw] # remove stopwords\n",
    "        wordnet_lemmatizer = WordNetLemmatizer() # set lemmatizer\n",
    "        words3 = [wordnet_lemmatizer.lemmatize(t) for t in words2]  # lemmatize\n",
    "        words4 = [x for x in words3 if not any(c.isdigit() for c in x)] # remove words with numbers\n",
    "        \n",
    "        df_token['tokens'][i] = words4"
   ]
  },
  {
   "cell_type": "code",
   "execution_count": null,
   "metadata": {
    "ExecuteTime": {
     "end_time": "2021-04-18T15:55:41.256536Z",
     "start_time": "2021-04-18T15:55:41.253454Z"
    }
   },
   "outputs": [],
   "source": [
    "df = df_token "
   ]
  },
  {
   "cell_type": "code",
   "execution_count": null,
   "metadata": {
    "ExecuteTime": {
     "end_time": "2021-04-18T15:55:41.474372Z",
     "start_time": "2021-04-18T15:55:41.467359Z"
    }
   },
   "outputs": [],
   "source": [
    "df.full_text[:3]"
   ]
  },
  {
   "cell_type": "code",
   "execution_count": null,
   "metadata": {
    "ExecuteTime": {
     "end_time": "2021-04-18T15:55:41.743045Z",
     "start_time": "2021-04-18T15:55:41.733830Z"
    }
   },
   "outputs": [],
   "source": [
    "df.tokens[:3]"
   ]
  },
  {
   "cell_type": "code",
   "execution_count": null,
   "metadata": {
    "ExecuteTime": {
     "end_time": "2021-04-18T15:55:41.881413Z",
     "start_time": "2021-04-18T15:55:41.870159Z"
    }
   },
   "outputs": [],
   "source": [
    "# check for NANs\n",
    "df['tokens'].isna().sum()"
   ]
  },
  {
   "cell_type": "code",
   "execution_count": null,
   "metadata": {
    "ExecuteTime": {
     "end_time": "2021-04-18T15:55:42.039411Z",
     "start_time": "2021-04-18T15:55:41.945392Z"
    }
   },
   "outputs": [],
   "source": [
    "# duplicates of full_text\n",
    "dupl = df[df.duplicated(subset='full_text',keep=False)].sort_values(\"full_text\")\n",
    "print(f'Number of duplicate tweets: {len(dupl)} corresponding to {np.round(len(dupl)/len(df)*100,1)} %')\n",
    "\n",
    "duplicates = dupl[['full_text']].groupby(dupl[['full_text']].columns.tolist()).size().reset_index().rename(columns={0:'duplicates'})\n",
    "duplicates.sort_values(\"duplicates\",ascending=False)"
   ]
  },
  {
   "cell_type": "code",
   "execution_count": null,
   "metadata": {
    "ExecuteTime": {
     "end_time": "2021-04-18T15:55:43.653443Z",
     "start_time": "2021-04-18T15:55:43.420529Z"
    }
   },
   "outputs": [],
   "source": [
    "# merge duplicates counts on df\n",
    "df = pd.merge(df,duplicates,on='full_text',how='outer').reset_index(drop=True)\n",
    "df['duplicates'].fillna(0, inplace=True)"
   ]
  },
  {
   "cell_type": "markdown",
   "metadata": {},
   "source": [
    "*Tweet data dictionary:* https://developer.twitter.com/en/docs/twitter-api/v1/data-dictionary/object-model/tweet]\n",
    "\n",
    "Retweets: \n",
    "* `retweeted_status` Users can amplify the broadcast of Tweets authored by other users by retweeting. Retweets can be distinguished from typical Tweets by the existence of a retweeted_status attribute. This attribute contains a representation of the original Tweet that was retweeted. Note that retweets of retweets do not show representations of the intermediary retweet, but only the original Tweet. (Users can also unretweet a retweet they created by deleting their retweet.)\n",
    "* `retweeted` Indicates whether this Tweet has been Retweeted by the authenticating user (using the retweet button)\n",
    "* `retweet_count`: Number of times this Tweet has been retweeted"
   ]
  },
  {
   "cell_type": "code",
   "execution_count": null,
   "metadata": {
    "ExecuteTime": {
     "end_time": "2021-04-18T15:55:43.798332Z",
     "start_time": "2021-04-18T15:55:43.793306Z"
    }
   },
   "outputs": [],
   "source": [
    "# number of tweets with retweeted as True\n",
    "len(df[df['retweeted']==True])"
   ]
  },
  {
   "cell_type": "code",
   "execution_count": null,
   "metadata": {
    "ExecuteTime": {
     "end_time": "2021-04-18T15:55:44.028718Z",
     "start_time": "2021-04-18T15:55:44.017331Z"
    }
   },
   "outputs": [],
   "source": [
    "# number of tweets with retweeted_status\n",
    "df['retweeted_status'].fillna('none', inplace=True)\n",
    "len(df[df['retweeted_status']!='none'])"
   ]
  },
  {
   "cell_type": "code",
   "execution_count": null,
   "metadata": {
    "ExecuteTime": {
     "end_time": "2021-04-18T15:55:44.276246Z",
     "start_time": "2021-04-18T15:55:44.269079Z"
    }
   },
   "outputs": [],
   "source": [
    "df[['tweet_id','full_text','retweet_count','retweeted']].iloc[48]"
   ]
  },
  {
   "cell_type": "code",
   "execution_count": null,
   "metadata": {
    "ExecuteTime": {
     "end_time": "2021-04-18T15:55:44.504420Z",
     "start_time": "2021-04-18T15:55:44.492471Z"
    }
   },
   "outputs": [],
   "source": [
    "# retweeted_status: representation of the original Tweet that was retweeted\n",
    "df['retweeted_status'][48]"
   ]
  },
  {
   "cell_type": "code",
   "execution_count": null,
   "metadata": {
    "ExecuteTime": {
     "end_time": "2021-04-18T15:55:44.867437Z",
     "start_time": "2021-04-18T15:55:44.643461Z"
    }
   },
   "outputs": [],
   "source": [
    "# number of tweets with full_text starting with \"RT\"\n",
    "len([df['full_text'][i].startswith('RT') for i in range(len(df)) if df['full_text'][i].startswith('RT')==True])"
   ]
  },
  {
   "cell_type": "code",
   "execution_count": null,
   "metadata": {
    "ExecuteTime": {
     "end_time": "2021-04-18T15:55:47.453391Z",
     "start_time": "2021-04-18T15:55:45.900171Z"
    }
   },
   "outputs": [],
   "source": [
    "# update retweeted variable and add original tweet id variable\n",
    "df['original_tweet_id'] = \"\"\n",
    "for i in range(len(df)):\n",
    "    if df['retweeted_status'][i]!='none': \n",
    "        df['retweeted'][i] = True\n",
    "        df['original_tweet_id'][i] = df['retweeted_status'][i]['id']\n",
    "    elif df['full_text'][i].startswith('RT')==True:\n",
    "        df['retweeted'][i] = True\n",
    "    else:\n",
    "        df['retweeted'][i] = False\n",
    "        \n",
    "num = sum(df['retweeted'])\n",
    "print(f'Number of retweets: {num} corresponding to {np.round(num/len(df)*100,1)} %')"
   ]
  },
  {
   "cell_type": "code",
   "execution_count": null,
   "metadata": {
    "ExecuteTime": {
     "end_time": "2021-04-18T15:55:47.487335Z",
     "start_time": "2021-04-18T15:55:47.455657Z"
    }
   },
   "outputs": [],
   "source": [
    "# retweet count does not seem reliable as retweeted = False for cases with retweet_count > 0\n",
    "df[df['retweet_count']>0][['full_text','retweeted','retweeted_status','retweet_count']] "
   ]
  },
  {
   "cell_type": "markdown",
   "metadata": {},
   "source": [
    "Quotes:\n",
    "* `quoted`: Indicates whether this is a Quoted Tweet\n",
    "\n",
    "Favorites:\n",
    "* `favorited`: Indicates whether this Tweet has been liked by the authenticating user\n",
    "* `favorite_count`: Indicates approximately how many times this Tweet has been liked by Twitter users\n",
    "\n",
    "Replies:\n",
    "* `reply_tweet_id`: Contains the integer representation of the original Tweet’s ID"
   ]
  },
  {
   "cell_type": "code",
   "execution_count": null,
   "metadata": {
    "ExecuteTime": {
     "end_time": "2021-04-18T15:55:48.177045Z",
     "start_time": "2021-04-18T15:55:48.165072Z"
    }
   },
   "outputs": [],
   "source": [
    "# number of tweets that are quoted\n",
    "print(len(df[df['quoted']==True]))\n",
    "df = df.drop(['quoted'], axis=1)"
   ]
  },
  {
   "cell_type": "code",
   "execution_count": null,
   "metadata": {
    "ExecuteTime": {
     "end_time": "2021-04-18T15:55:48.324063Z",
     "start_time": "2021-04-18T15:55:48.311801Z"
    }
   },
   "outputs": [],
   "source": [
    "# number of tweets that are favorited\n",
    "print(len(df[df['favorited']==True]))\n",
    "df = df.drop(['favorited'], axis=1)"
   ]
  },
  {
   "cell_type": "code",
   "execution_count": null,
   "metadata": {
    "ExecuteTime": {
     "end_time": "2021-04-18T15:55:48.457986Z",
     "start_time": "2021-04-18T15:55:48.445559Z"
    }
   },
   "outputs": [],
   "source": [
    "print(len(df[df['favorite_count']>0]))\n",
    "df = df.drop(['favorite_count'], axis=1)"
   ]
  },
  {
   "cell_type": "code",
   "execution_count": null,
   "metadata": {
    "ExecuteTime": {
     "end_time": "2021-04-18T15:55:48.758307Z",
     "start_time": "2021-04-18T15:55:48.737977Z"
    }
   },
   "outputs": [],
   "source": [
    "# number of replies \n",
    "print(df['reply_tweet_id'].fillna('none', inplace=True))\n",
    "len(df[df['reply_tweet_id']!='none'])"
   ]
  },
  {
   "cell_type": "code",
   "execution_count": null,
   "metadata": {
    "ExecuteTime": {
     "end_time": "2021-04-18T15:56:02.123050Z",
     "start_time": "2021-04-18T15:56:00.652936Z"
    }
   },
   "outputs": [],
   "source": [
    "# add boolean variable for whether a tweet is a reply\n",
    "df['is_reply'] = \"\"\n",
    "for i in range(len(df)):\n",
    "    if df['reply_tweet_id'][i]!='none': \n",
    "        df['is_reply'][i] = True\n",
    "    else:\n",
    "        df['is_reply'][i] = False"
   ]
  },
  {
   "cell_type": "code",
   "execution_count": null,
   "metadata": {
    "ExecuteTime": {
     "end_time": "2021-04-18T15:56:02.136950Z",
     "start_time": "2021-04-18T15:56:02.125021Z"
    }
   },
   "outputs": [],
   "source": [
    "# select numeric columns\n",
    "df_numeric = df.select_dtypes(include=[np.number])\n",
    "numeric_cols = df_numeric.columns.values\n",
    "print(f'Numeric variables:\\n {numeric_cols}')\n",
    "\n",
    "# select non numeric columns\n",
    "df_non_numeric = df.select_dtypes(exclude=[np.number])\n",
    "non_numeric_cols = df_non_numeric.columns.values\n",
    "print(f'Non-numeric variables:\\n {non_numeric_cols}')"
   ]
  },
  {
   "cell_type": "code",
   "execution_count": null,
   "metadata": {
    "ExecuteTime": {
     "end_time": "2021-04-18T15:56:02.191237Z",
     "start_time": "2021-04-18T15:56:02.139834Z"
    }
   },
   "outputs": [],
   "source": [
    "# find numbers and percentages of missing data\n",
    "print(f'Total number of missing values: {df.isnull().sum().sum()}\\n')\n",
    "\n",
    "print('Number and percentage of missing values per variable:')\n",
    "for col in df.columns:\n",
    "    pct_missing = np.mean(df[col].isnull())*100\n",
    "    if pct_missing > 0:\n",
    "        print(f'{col}: {df[col].isnull().sum()} - {np.round(pct_missing,2)} %')"
   ]
  },
  {
   "cell_type": "code",
   "execution_count": null,
   "metadata": {
    "ExecuteTime": {
     "end_time": "2021-04-18T15:56:03.136061Z",
     "start_time": "2021-04-18T15:56:02.192913Z"
    }
   },
   "outputs": [],
   "source": [
    "# visualize the missing data with a heatmap\n",
    "sns.set()\n",
    "plt.figure(figsize=(12, 6))\n",
    "heatmap = sns.heatmap(df[df.columns].isnull(), cmap=sns.color_palette(['#f7fbff', '#05264c']),cbar=False)\n",
    "heatmap.set_xlabel('columns',fontsize=14)\n",
    "heatmap.set_ylabel('rows',fontsize=14)\n",
    "plt.show()"
   ]
  },
  {
   "cell_type": "code",
   "execution_count": null,
   "metadata": {
    "ExecuteTime": {
     "end_time": "2021-04-18T15:56:03.362590Z",
     "start_time": "2021-04-18T15:56:03.138172Z"
    }
   },
   "outputs": [],
   "source": [
    "# create missing indicator for variables with missing data\n",
    "for col in df.columns:\n",
    "    missing = df[col].isnull()\n",
    "    num_missing = np.sum(missing)\n",
    "    if num_missing > 0:  \n",
    "        df['{}_ismissing'.format(col)] = missing\n",
    "\n",
    "# based on the indicator, plot the bar chart of missing values\n",
    "ismissing_cols = [col for col in df.columns if 'ismissing' in col]\n",
    "df['num_missing'] = df[ismissing_cols].sum(axis=1)\n",
    "sns.set()\n",
    "df['num_missing'].value_counts().reset_index().sort_values(by='index').plot.bar(\n",
    "    x='index', y='num_missing', figsize=(12, 6), color='#05264c')\n",
    "plt.xticks(rotation=0)\n",
    "plt.xlabel('Number of missing values per obervation',fontsize=14)\n",
    "plt.ylabel('Number of obervations',fontsize=14)\n",
    "plt.legend('')\n",
    "plt.show()"
   ]
  },
  {
   "cell_type": "code",
   "execution_count": null,
   "metadata": {
    "ExecuteTime": {
     "end_time": "2021-04-18T15:56:04.166782Z",
     "start_time": "2021-04-18T15:56:04.149484Z"
    }
   },
   "outputs": [],
   "source": [
    "# for non-numeric variables fill missing values with empty strings \n",
    "#for col in non_numeric_cols:\n",
    "#    missing = df[col].isnull()\n",
    "#    num_missing = np.sum(missing)\n",
    "#    if num_missing > 0:\n",
    "#        print('Filling missing values for: {}'.format(col))\n",
    "#        df['{}_ismissing'.format(col)] = missing\n",
    "#        df[col] = df[col].fillna('')\n",
    "\n",
    "# drop columns used to detect missing values\n",
    "df = df.drop(ismissing_cols, axis=1)\n",
    "df = df.drop('num_missing', axis=1)"
   ]
  },
  {
   "cell_type": "code",
   "execution_count": null,
   "metadata": {
    "ExecuteTime": {
     "end_time": "2021-04-18T15:56:32.339159Z",
     "start_time": "2021-04-18T15:56:05.415950Z"
    }
   },
   "outputs": [],
   "source": [
    "# check repetitiveness\n",
    "repetitive_cols = []\n",
    "print('Percentage of the same value per variable:\\n')\n",
    "for col in df.columns:\n",
    "    repetitive = (df[col].value_counts()/len(df.index)).iloc[0]\n",
    "    print('{0}: {1:.1f}%'.format(col, repetitive*100))\n",
    "    if repetitive > 0.8:\n",
    "        repetitive_cols.append(col)"
   ]
  },
  {
   "cell_type": "code",
   "execution_count": null,
   "metadata": {
    "ExecuteTime": {
     "end_time": "2021-04-18T15:56:32.380443Z",
     "start_time": "2021-04-18T15:56:32.341366Z"
    }
   },
   "outputs": [],
   "source": [
    "print('\\nTop values of most repetitive variables:')\n",
    "for col in repetitive_cols:\n",
    "    display(df[col].value_counts()[:3])"
   ]
  },
  {
   "cell_type": "code",
   "execution_count": null,
   "metadata": {
    "ExecuteTime": {
     "end_time": "2021-04-18T15:56:32.392440Z",
     "start_time": "2021-04-18T15:56:32.382756Z"
    }
   },
   "outputs": [],
   "source": [
    "# drop variable with only one distinct value\n",
    "df = df.drop(['lang'], axis=1)"
   ]
  },
  {
   "cell_type": "code",
   "execution_count": null,
   "metadata": {
    "ExecuteTime": {
     "end_time": "2021-04-18T15:57:10.893507Z",
     "start_time": "2021-04-18T15:57:10.857808Z"
    }
   },
   "outputs": [],
   "source": [
    "df['created_at'] = pd.to_datetime(df['created_at'], format='%Y-%m-%d')\n",
    "df['created_at_year'] = df['created_at'].dt.year\n",
    "df['created_at_month'] = df['created_at'].dt.month\n",
    "df['created_at_weekday'] = df['created_at'].dt.weekday\n",
    "df.head(1)"
   ]
  },
  {
   "cell_type": "code",
   "execution_count": 28,
   "metadata": {
    "ExecuteTime": {
     "end_time": "2021-05-03T10:01:39.755958Z",
     "start_time": "2021-05-03T10:01:38.572767Z"
    }
   },
   "outputs": [],
   "source": [
    "# for visualization\n",
    "\n",
    "df = df[df['relevant'] == 1].reset_index(drop=True)\n",
    "df = df[~df['final_coords'].isna()].reset_index(drop=True)\n",
    "df['date'] = pd.to_datetime(df['created_at']).dt.date\n",
    "df['date'] = pd.to_datetime(df['date'])\n",
    "wrapper = textwrap.TextWrapper(width=50)\n",
    "df['localization'] = \"\"\n",
    "\n",
    "for i in range(len(df)):\n",
    "    df['full_text'][i] = \"<br>\".join(wrapper.wrap(text=df['full_text'][i]))\n",
    "    \n",
    "    if df.final_coords_type[i] == 1:\n",
    "        df['localization'][i] = 'Geotagged coordinates'\n",
    "    elif df.final_coords_type[i] == 2:\n",
    "        df['localization'][i] = 'Geotagged place'\n",
    "    elif df.final_coords_type[i] == 3:\n",
    "        df['localization'][i] = 'Geoparsed from Tweet'\n",
    "    else:\n",
    "        df['localization'][i] = 'Registered user location'"
   ]
  },
  {
   "cell_type": "code",
   "execution_count": 53,
   "metadata": {
    "ExecuteTime": {
     "end_time": "2021-05-03T10:29:20.444793Z",
     "start_time": "2021-05-03T10:29:20.439068Z"
    }
   },
   "outputs": [],
   "source": [
    "df = df.drop(['geo', 'coordinates', 'place', 'location_type', 'centers', 'relevant', 'created_at_year', \n",
    "         'created_at_month', 'created_at_weekday', 'geoparsing', 'geoparsing_count', 'user_location_lower', \n",
    "         'gp_coords', 'user_coordinates', 'gp_coords1', 'distance', 'final_coords2', 'final_coords_type', \n",
    "         'final_coords_str'], axis=1)"
   ]
  },
  {
   "cell_type": "code",
   "execution_count": 54,
   "metadata": {
    "ExecuteTime": {
     "end_time": "2021-05-03T10:29:45.920387Z",
     "start_time": "2021-05-03T10:29:45.915208Z"
    }
   },
   "outputs": [
    {
     "data": {
      "text/plain": [
       "Index(['tweet_id', 'tweet_link', 'full_text', 'tokens', 'hashtags', 'user_id',\n",
       "       'user_name', 'user_location', 'created_at', 'date', 'original_tweet_id',\n",
       "       'retweeted', 'first_tweet', 'retweet_count', 'final_coords', 'lat',\n",
       "       'lon', 'localization'],\n",
       "      dtype='object')"
      ]
     },
     "execution_count": 54,
     "metadata": {},
     "output_type": "execute_result"
    }
   ],
   "source": [
    "df.columns"
   ]
  },
  {
   "cell_type": "code",
   "execution_count": 56,
   "metadata": {
    "ExecuteTime": {
     "end_time": "2021-05-03T10:30:06.702954Z",
     "start_time": "2021-05-03T10:30:06.563688Z"
    }
   },
   "outputs": [],
   "source": [
    "# export to csv\n",
    "df.to_csv('data/final_tweets.csv',index=False)"
   ]
  },
  {
   "cell_type": "code",
   "execution_count": 57,
   "metadata": {
    "ExecuteTime": {
     "end_time": "2021-05-03T10:31:07.760181Z",
     "start_time": "2021-05-03T10:31:07.696805Z"
    }
   },
   "outputs": [],
   "source": [
    "# load data\n",
    "df = pd.read_csv('data/final_tweets.csv')"
   ]
  },
  {
   "cell_type": "markdown",
   "metadata": {},
   "source": [
    "# Data exploration"
   ]
  },
  {
   "cell_type": "code",
   "execution_count": null,
   "metadata": {
    "ExecuteTime": {
     "end_time": "2021-04-18T15:23:49.888319Z",
     "start_time": "2021-04-18T15:23:47.921877Z"
    }
   },
   "outputs": [],
   "source": [
    "# load data\n",
    "df = pd.read_csv('data/final_labelled_tweets.csv')\n",
    "\n",
    "df.dropna(subset=['tokens'],inplace=True)\n",
    "df['tokens'] = [literal_eval(s) for s in df['tokens']]\n",
    "for i in range(len(df)):\n",
    "    try:\n",
    "        df['geo'][i] = eval(df['geo'][i])\n",
    "    except:\n",
    "        df['geo'][i] = np.nan\n",
    "    try:\n",
    "        df['place'][i] = eval(df['place'][i])\n",
    "    except:\n",
    "        df['place'][i] = np.nan"
   ]
  },
  {
   "cell_type": "code",
   "execution_count": null,
   "metadata": {
    "ExecuteTime": {
     "end_time": "2021-04-18T15:23:49.913022Z",
     "start_time": "2021-04-18T15:23:49.890834Z"
    }
   },
   "outputs": [],
   "source": [
    "df.info()"
   ]
  },
  {
   "cell_type": "code",
   "execution_count": null,
   "metadata": {
    "ExecuteTime": {
     "end_time": "2021-04-18T15:31:46.495459Z",
     "start_time": "2021-04-18T15:31:46.017199Z"
    }
   },
   "outputs": [],
   "source": [
    "plt.figure(figsize=(10, 5))\n",
    "sns.distplot(df['retweet_count'], color='#05264c', rug=True, kde=True)\n",
    "plt.xlabel('retweet_count',fontsize=14)\n",
    "plt.ylabel('density',fontsize=14)\n",
    "plt.tight_layout()"
   ]
  },
  {
   "cell_type": "code",
   "execution_count": null,
   "metadata": {
    "ExecuteTime": {
     "end_time": "2021-04-18T15:31:34.958932Z",
     "start_time": "2021-04-18T15:31:34.823499Z"
    }
   },
   "outputs": [],
   "source": [
    "plt.figure(figsize=(10, 5))\n",
    "sns.boxplot(y=df['retweet_count'],color='#05264c')\n",
    "plt.ylabel('retweet_count',fontsize=14)\n",
    "plt.tight_layout()"
   ]
  },
  {
   "cell_type": "code",
   "execution_count": null,
   "metadata": {
    "ExecuteTime": {
     "end_time": "2021-04-18T15:51:00.445603Z",
     "start_time": "2021-04-18T15:51:00.099799Z"
    }
   },
   "outputs": [],
   "source": [
    "def bar_chart(col,num):\n",
    "    df[col].value_counts()[:num].plot.barh(color='#05264c', figsize=(10, 5))\n",
    "    plt.title(f'Top {num} {col}s')\n",
    "    plt.gca().invert_yaxis()\n",
    "    plt.xlabel('count')\n",
    "    plt.ylabel(col)\n",
    "    plt.tight_layout()\n",
    "\n",
    "bar_chart('user_location',20)"
   ]
  },
  {
   "cell_type": "code",
   "execution_count": null,
   "metadata": {
    "ExecuteTime": {
     "end_time": "2021-04-18T15:40:24.870622Z",
     "start_time": "2021-04-18T15:40:23.806600Z"
    }
   },
   "outputs": [],
   "source": [
    "sns.set()\n",
    "pairplot = sns.pairplot(df[['retweet_count','user_followers_count']], diag_kind='kde', palette='#05264c')\n",
    "plt.show()"
   ]
  },
  {
   "cell_type": "code",
   "execution_count": null,
   "metadata": {
    "ExecuteTime": {
     "end_time": "2021-04-18T16:06:02.706634Z",
     "start_time": "2021-04-18T16:06:02.483681Z"
    }
   },
   "outputs": [],
   "source": [
    "# number of tweets over time\n",
    "month_count = np.unique(df['created_at_month'],return_counts=True)\n",
    "months = month_count[0]\n",
    "plt.figure(figsize=(10, 5))\n",
    "bins = np.arange(1,13)\n",
    "plt.hist(df['created_at_month'], bins=bins, color='#05264c')\n",
    "plt.ylabel('count')\n",
    "plt.xlabel('month')\n",
    "plt.xticks(bins)\n",
    "plt.show()"
   ]
  },
  {
   "cell_type": "markdown",
   "metadata": {},
   "source": [
    "#  Text classification\n",
    "\n",
    "1. Basic NLP algorithms; tf-idf; logistic classifier, naive bayes, SVM\n",
    "2. Deep learning; word2vec; CNN\n",
    "3. Transfer learning; ULMFiT, GPT-3"
   ]
  },
  {
   "cell_type": "markdown",
   "metadata": {},
   "source": [
    "## Basic models"
   ]
  },
  {
   "cell_type": "code",
   "execution_count": null,
   "metadata": {
    "ExecuteTime": {
     "end_time": "2021-04-15T14:46:38.549083Z",
     "start_time": "2021-04-15T14:46:38.534741Z"
    },
    "scrolled": true
   },
   "outputs": [],
   "source": [
    "# relevant variables\n",
    "df_rel = df[['full_text','tokens','relevant']]\n",
    "df_rel.head()                                                               "
   ]
  },
  {
   "cell_type": "code",
   "execution_count": null,
   "metadata": {
    "ExecuteTime": {
     "end_time": "2021-04-15T14:46:59.383160Z",
     "start_time": "2021-04-15T14:46:58.878850Z"
    }
   },
   "outputs": [],
   "source": [
    "X = df_rel['tokens']\n",
    "y = df_rel['relevant']\n",
    "\n",
    "print('Relevant:', sum(y), 'that is:' , round(sum(y)/len(y)*100,2), '%')\n",
    "print('Non-relevant:', len(y)-sum(y), 'that is:' ,round((len(y)-sum(y))/len(y)*100,2),'%')\n",
    "\n",
    "plt.figure(figsize=(10,4))\n",
    "p1 = plt.barh(1,100,color='lightgreen')\n",
    "p2 = plt.barh(1,(len(y)-sum(y))/len(y)*100,color='firebrick')\n",
    "\n",
    "plt.legend((p1[0], p2[0]), ('Relevant', 'Non-relevant'),loc='upper center')\n",
    "plt.yticks([1,1.8])\n",
    "plt.title('Class balance',fontsize=16)\n",
    "plt.show()"
   ]
  },
  {
   "cell_type": "code",
   "execution_count": null,
   "metadata": {
    "ExecuteTime": {
     "end_time": "2021-04-15T14:47:29.622093Z",
     "start_time": "2021-04-15T14:47:29.593237Z"
    }
   },
   "outputs": [],
   "source": [
    "def text_fit(X, y, model, clf_model):   \n",
    "    \n",
    "    X_c = model.fit_transform(X)\n",
    "    X_train, X_test, y_train, y_test = train_test_split(X_c, y, random_state=0)\n",
    "    \n",
    "    print('* features: {}'.format(X_c.shape[1]))\n",
    "    print('* train records: {}'.format(X_train.shape[0]))\n",
    "    print('* test records: {}'.format(X_test.shape[0]))\n",
    "   \n",
    "    clf = clf_model.fit(X_train, y_train)\n",
    "    pred = clf_model.predict(X_test)\n",
    "    \n",
    "    conf_mat = confusion_matrix(y_test.tolist(), pred)\n",
    "    \n",
    "    print('\\nConfusion matrix')\n",
    "    print(conf_mat)\n",
    "    TN = conf_mat[0][0]\n",
    "    FP = conf_mat[0][1]\n",
    "    FN = conf_mat[1][0]\n",
    "    TP = conf_mat[1][1]\n",
    "\n",
    "    acc = (TP+TN)/(TP+TN+FP+FN)\n",
    "    prec = TP/(TP+FP)\n",
    "    rec = TP/(TP+FN)\n",
    "    print('Accuracy:',(acc))\n",
    "    print('Precision: ', prec)\n",
    "    print('Recall: ', rec)\n",
    "    \n",
    "    return clf, X_c"
   ]
  },
  {
   "cell_type": "markdown",
   "metadata": {},
   "source": [
    "Source: [https://www.kaggle.com/laowingkin/amazon-fine-food-review-sentiment-analysis](https://www.kaggle.com/laowingkin/amazon-fine-food-review-sentiment-analysis)"
   ]
  },
  {
   "cell_type": "code",
   "execution_count": null,
   "metadata": {
    "ExecuteTime": {
     "end_time": "2021-04-15T14:47:39.115030Z",
     "start_time": "2021-04-15T14:47:37.733746Z"
    }
   },
   "outputs": [],
   "source": [
    "tfidf = TfidfVectorizer(preprocessor=' '.join, stop_words='english', lowercase=True)\n",
    "\n",
    "print('Dummy classifier')\n",
    "clf_base, X_c_base = text_fit(X, y, tfidf, DummyClassifier())\n",
    "print(60*'__')\n",
    "\n",
    "print('\\nLogistic regression')\n",
    "clf_log, X_c_log = text_fit(X, y, tfidf, LogisticRegression())\n",
    "print(60*'__')\n",
    "\n",
    "print('\\nNaive Bayes')\n",
    "clf_NB, X_c_NB = text_fit(X, y, tfidf, MultinomialNB())\n",
    "\n",
    "print(60*'__')"
   ]
  },
  {
   "cell_type": "code",
   "execution_count": null,
   "metadata": {
    "ExecuteTime": {
     "end_time": "2021-04-15T14:47:56.191236Z",
     "start_time": "2021-04-15T14:47:56.176116Z"
    }
   },
   "outputs": [],
   "source": [
    "def print_words(model, clf_model, out):\n",
    "    w = model.get_feature_names()\n",
    "    coef = clf_model.coef_.tolist()[0]\n",
    "    coeff_df = pd.DataFrame({'Word': w, 'Coefficient': coef})\n",
    "    coeff_df = coeff_df.sort_values(['Coefficient', 'Word'], ascending=[0, 1])\n",
    "    if out == 1:\n",
    "        print('')\n",
    "        print('*Top 20 relevant*')\n",
    "        print(coeff_df.head(20).to_string(index=False))\n",
    "        print('')\n",
    "        print('*Top 20 non-relevant*')\n",
    "        print(coeff_df.tail(20).to_string(index=False))\n",
    "\n",
    "    return coeff_df"
   ]
  },
  {
   "cell_type": "code",
   "execution_count": null,
   "metadata": {
    "ExecuteTime": {
     "end_time": "2021-04-15T14:47:58.041682Z",
     "start_time": "2021-04-15T14:47:57.974911Z"
    }
   },
   "outputs": [],
   "source": [
    "print('Logistic regression:')\n",
    "\n",
    "_ = print_words(tfidf, clf_log, 1)"
   ]
  },
  {
   "cell_type": "markdown",
   "metadata": {},
   "source": [
    "## CNN \n",
    "Source: https://towardsdatascience.com/cnn-sentiment-analysis-1d16b7c5a0e7"
   ]
  },
  {
   "cell_type": "markdown",
   "metadata": {},
   "source": [
    "As our problem is a binary classification. We need to pass our model a two-dimensional output vector. For that, we add two one hot encoded columns to our data frame."
   ]
  },
  {
   "cell_type": "code",
   "execution_count": null,
   "metadata": {
    "ExecuteTime": {
     "end_time": "2021-04-15T14:49:18.511534Z",
     "start_time": "2021-04-15T14:49:18.484126Z"
    }
   },
   "outputs": [],
   "source": [
    "# relevant variables\n",
    "df_rel = df[['full_text','tokens','relevant']] \n",
    "data = df_rel.rename(columns={'relevant': 'label'}, inplace=False)\n",
    "rel = []\n",
    "notrel = []\n",
    "for l in data.label:\n",
    "    if l == 0:\n",
    "        rel.append(0)\n",
    "        notrel.append(1)\n",
    "    elif l == 1:\n",
    "        rel.append(1)\n",
    "        notrel.append(0)\n",
    "data['relevant'] = rel\n",
    "data['not_relevant'] = notrel\n",
    "data.head()"
   ]
  },
  {
   "cell_type": "code",
   "execution_count": null,
   "metadata": {
    "ExecuteTime": {
     "end_time": "2021-04-15T14:49:28.018455Z",
     "start_time": "2021-04-15T14:49:27.910412Z"
    }
   },
   "outputs": [],
   "source": [
    "# splitting data into test and train\n",
    "data_train, data_test = train_test_split(data, test_size=0.10, random_state=42)"
   ]
  },
  {
   "cell_type": "code",
   "execution_count": null,
   "metadata": {
    "ExecuteTime": {
     "end_time": "2021-04-15T14:49:30.885020Z",
     "start_time": "2021-04-15T14:49:30.721521Z"
    }
   },
   "outputs": [],
   "source": [
    "# build training vocabulary\n",
    "all_training_words = [word for tokens in data_train[\"tokens\"] for word in tokens]\n",
    "training_sentence_lengths = [len(tokens) for tokens in data_train[\"tokens\"]]\n",
    "TRAINING_VOCAB = sorted(list(set(all_training_words)))\n",
    "print(\"%s words total, with a vocabulary size of %s\" % (len(all_training_words), len(TRAINING_VOCAB)))\n",
    "print(\"Max sentence length is %s\" % max(training_sentence_lengths))"
   ]
  },
  {
   "cell_type": "code",
   "execution_count": null,
   "metadata": {
    "ExecuteTime": {
     "end_time": "2021-04-15T14:49:32.324775Z",
     "start_time": "2021-04-15T14:49:32.303872Z"
    }
   },
   "outputs": [],
   "source": [
    "# build testing vocabulary \n",
    "all_test_words = [word for tokens in data_test[\"tokens\"] for word in tokens]\n",
    "test_sentence_lengths = [len(tokens) for tokens in data_test[\"tokens\"]]\n",
    "TEST_VOCAB = sorted(list(set(all_test_words)))\n",
    "print(\"%s words total, with a vocabulary size of %s\" % (len(all_test_words), len(TEST_VOCAB)))\n",
    "print(\"Max sentence length is %s\" % max(test_sentence_lengths))"
   ]
  },
  {
   "cell_type": "code",
   "execution_count": null,
   "metadata": {
    "ExecuteTime": {
     "start_time": "2021-04-15T14:50:21.335Z"
    }
   },
   "outputs": [],
   "source": [
    "# load google news Word2Vec model \n",
    "word2vec_path = 'https://s3.amazonaws.com/dl4j-distribution/GoogleNews-vectors-negative300.bin.gz'\n",
    "word2vec = models.KeyedVectors.load_word2vec_format(word2vec_path, binary=True)"
   ]
  },
  {
   "cell_type": "code",
   "execution_count": null,
   "metadata": {
    "ExecuteTime": {
     "end_time": "2021-04-13T08:10:45.239547Z",
     "start_time": "2021-04-13T08:10:45.219066Z"
    }
   },
   "outputs": [],
   "source": [
    "def get_average_word2vec(tokens_list, vector, generate_missing=False, k=300):\n",
    "    if len(tokens_list)<1:\n",
    "        return np.zeros(k)\n",
    "    if generate_missing:\n",
    "        vectorized = [vector[word] if word in vector else np.random.rand(k) for word in tokens_list]\n",
    "    else:\n",
    "        vectorized = [vector[word] if word in vector else np.zeros(k) for word in tokens_list]\n",
    "    length = len(vectorized)\n",
    "    summed = np.sum(vectorized, axis=0)\n",
    "    averaged = np.divide(summed, length)\n",
    "    return averaged\n",
    "\n",
    "def get_word2vec_embeddings(vectors, clean_comments, generate_missing=False):\n",
    "    embeddings = clean_comments['tokens'].apply(lambda x: get_average_word2vec(x, vectors, generate_missing=generate_missing))\n",
    "    return list(embeddings)"
   ]
  },
  {
   "cell_type": "code",
   "execution_count": null,
   "metadata": {
    "ExecuteTime": {
     "end_time": "2021-04-13T08:10:48.105212Z",
     "start_time": "2021-04-13T08:10:45.242357Z"
    }
   },
   "outputs": [],
   "source": [
    "# get embeddings\n",
    "training_embeddings = get_word2vec_embeddings(word2vec, data_train, generate_missing=True)"
   ]
  },
  {
   "cell_type": "code",
   "execution_count": null,
   "metadata": {
    "ExecuteTime": {
     "end_time": "2021-04-13T08:10:48.114987Z",
     "start_time": "2021-04-13T08:10:48.108436Z"
    }
   },
   "outputs": [],
   "source": [
    "# parameters\n",
    "MAX_SEQUENCE_LENGTH = 40\n",
    "EMBEDDING_DIM = 300"
   ]
  },
  {
   "cell_type": "code",
   "execution_count": null,
   "metadata": {
    "ExecuteTime": {
     "end_time": "2021-04-13T08:10:48.706743Z",
     "start_time": "2021-04-13T08:10:48.118057Z"
    }
   },
   "outputs": [],
   "source": [
    "# tokenize and pad sequences\n",
    "tokenizer = Tokenizer(num_words=len(TRAINING_VOCAB), lower=True, char_level=False)\n",
    "tokenizer.fit_on_texts(data_train['full_text'].tolist())\n",
    "training_sequences = tokenizer.texts_to_sequences(data_train['full_text'].tolist())\n",
    "\n",
    "train_word_index = tokenizer.word_index\n",
    "print('Found %s unique tokens.' % len(train_word_index))\n",
    "\n",
    "train_cnn_data = pad_sequences(training_sequences, maxlen=MAX_SEQUENCE_LENGTH)"
   ]
  },
  {
   "cell_type": "code",
   "execution_count": null,
   "metadata": {
    "ExecuteTime": {
     "end_time": "2021-04-13T08:10:49.222501Z",
     "start_time": "2021-04-13T08:10:48.708904Z"
    }
   },
   "outputs": [],
   "source": [
    "train_embedding_weights = np.zeros((len(train_word_index)+1, EMBEDDING_DIM))\n",
    "\n",
    "for word,index in train_word_index.items():\n",
    "    train_embedding_weights[index,:] = word2vec[word] if word in word2vec else np.random.rand(EMBEDDING_DIM)\n",
    "\n",
    "print(train_embedding_weights.shape)"
   ]
  },
  {
   "cell_type": "code",
   "execution_count": null,
   "metadata": {
    "ExecuteTime": {
     "end_time": "2021-04-13T08:10:49.258896Z",
     "start_time": "2021-04-13T08:10:49.224149Z"
    }
   },
   "outputs": [],
   "source": [
    "test_sequences = tokenizer.texts_to_sequences(data_test[\"full_text\"].tolist())\n",
    "test_cnn_data = pad_sequences(test_sequences, maxlen=MAX_SEQUENCE_LENGTH)"
   ]
  },
  {
   "cell_type": "code",
   "execution_count": null,
   "metadata": {
    "ExecuteTime": {
     "end_time": "2021-04-13T08:10:49.271180Z",
     "start_time": "2021-04-13T08:10:49.263182Z"
    }
   },
   "outputs": [],
   "source": [
    "# Defining CNN\n",
    "def ConvNet(embeddings, max_sequence_length, num_words, embedding_dim, labels_index):\n",
    " \n",
    "    embedding_layer = Embedding(num_words,\n",
    "                                embedding_dim,\n",
    "                                weights=[embeddings],\n",
    "                                input_length=max_sequence_length,\n",
    "                                trainable=False)\n",
    "    \n",
    "    sequence_input = Input(shape=(max_sequence_length,), dtype='int32')\n",
    "    embedded_sequences = embedding_layer(sequence_input)\n",
    "    \n",
    "    convs = []\n",
    "    filter_sizes = [2,3,4,5,6]\n",
    "    \n",
    "    for filter_size in filter_sizes:\n",
    "        l_conv = Conv1D(filters=200, \n",
    "                        kernel_size=filter_size, \n",
    "                        activation='relu')(embedded_sequences)\n",
    "        l_pool = GlobalMaxPooling1D()(l_conv)\n",
    "        convs.append(l_pool)\n",
    "    \n",
    "    l_merge = concatenate(convs, axis=1)\n",
    "    \n",
    "    x = Dropout(0.1)(l_merge)  \n",
    "    x = Dense(128, activation='relu')(x)\n",
    "    x = Dropout(0.2)(x)\n",
    "    preds = Dense(labels_index, activation='sigmoid')(x)\n",
    "    \n",
    "    model = Model(sequence_input, preds)\n",
    "    model.compile(loss='binary_crossentropy',\n",
    "                  optimizer='adam',\n",
    "                  metrics=['acc'])\n",
    "    model.summary()\n",
    "    return model"
   ]
  },
  {
   "cell_type": "code",
   "execution_count": null,
   "metadata": {
    "ExecuteTime": {
     "end_time": "2021-04-13T08:10:49.297200Z",
     "start_time": "2021-04-13T08:10:49.273318Z"
    }
   },
   "outputs": [],
   "source": [
    "label_names = ['relevant','notrelevant']\n",
    "\n",
    "x_train = train_cnn_data\n",
    "y_train = data_train[label_names].values\n",
    "\n",
    "x_test = test_cnn_data\n",
    "y_test = data_test[label_names].values"
   ]
  },
  {
   "cell_type": "code",
   "execution_count": null,
   "metadata": {
    "ExecuteTime": {
     "end_time": "2021-04-13T08:10:49.679698Z",
     "start_time": "2021-04-13T08:10:49.299356Z"
    }
   },
   "outputs": [],
   "source": [
    "model = ConvNet(train_embedding_weights, \n",
    "                MAX_SEQUENCE_LENGTH, \n",
    "                len(train_word_index)+1, \n",
    "                EMBEDDING_DIM, \n",
    "                len(list(label_names)))"
   ]
  },
  {
   "cell_type": "code",
   "execution_count": null,
   "metadata": {
    "ExecuteTime": {
     "end_time": "2021-04-13T08:11:38.801624Z",
     "start_time": "2021-04-13T08:10:49.682522Z"
    }
   },
   "outputs": [],
   "source": [
    "# Training CNN\n",
    "num_epochs = 3\n",
    "batch_size = 32\n",
    "\n",
    "clear_session()\n",
    "\n",
    "hist = model.fit(x_train, \n",
    "                 y_train, \n",
    "                 epochs=num_epochs, \n",
    "                 validation_split=0.1, \n",
    "                 shuffle=True, \n",
    "                 batch_size=batch_size)"
   ]
  },
  {
   "cell_type": "code",
   "execution_count": null,
   "metadata": {
    "ExecuteTime": {
     "end_time": "2021-04-13T08:11:39.655936Z",
     "start_time": "2021-04-13T08:11:38.805293Z"
    }
   },
   "outputs": [],
   "source": [
    "predictions = model.predict(test_cnn_data, batch_size=1024, verbose=1)\n",
    "labels = [1, 0]\n",
    "\n",
    "prediction_labels = []\n",
    "for p in predictions:\n",
    "    prediction_labels.append(labels[np.argmax(p)])\n",
    "\n",
    "sum(data_test.label == prediction_labels)/len(prediction_labels)"
   ]
  },
  {
   "cell_type": "code",
   "execution_count": null,
   "metadata": {
    "ExecuteTime": {
     "end_time": "2021-04-13T08:11:39.671295Z",
     "start_time": "2021-04-13T08:11:39.658743Z"
    }
   },
   "outputs": [],
   "source": [
    "data_test.label.value_counts()"
   ]
  },
  {
   "cell_type": "code",
   "execution_count": null,
   "metadata": {
    "ExecuteTime": {
     "end_time": "2021-04-13T08:25:21.033948Z",
     "start_time": "2021-04-13T08:25:15.124979Z"
    }
   },
   "outputs": [],
   "source": [
    "loss, accuracy = model.evaluate(x_train, y_train, verbose=False)\n",
    "print(\"Training accuracy: {:.4f}\".format(accuracy))\n",
    "\n",
    "loss, accuracy = model.evaluate(x_test, y_test, verbose=False)\n",
    "print(\"Testing accuracy:  {:.4f}\".format(accuracy))"
   ]
  },
  {
   "cell_type": "code",
   "execution_count": null,
   "metadata": {
    "ExecuteTime": {
     "end_time": "2021-04-13T08:25:21.556751Z",
     "start_time": "2021-04-13T08:25:21.037225Z"
    }
   },
   "outputs": [],
   "source": [
    "sns.set()\n",
    "\n",
    "acc = hist.history['acc']\n",
    "val_acc = hist.history['val_acc']\n",
    "loss = hist.history['loss']\n",
    "val_loss = hist.history['val_loss']\n",
    "\n",
    "plt.figure(figsize=(12, 5))\n",
    "plt.subplot(1, 2, 1)\n",
    "x = range(1, len(acc) + 1)\n",
    "plt.plot(x, acc, 'b', label='Training acc')\n",
    "plt.plot(x, val_acc, 'r', label='Validation acc')\n",
    "plt.xticks(x)\n",
    "plt.xlabel('Epochs')\n",
    "plt.ylabel('Accuracy')\n",
    "plt.legend()\n",
    "plt.subplot(1, 2, 2)\n",
    "plt.plot(x, loss, 'b', label='Training loss')\n",
    "plt.plot(x, val_loss, 'r', label='Validation loss')\n",
    "plt.xticks(x)\n",
    "plt.xlabel('Epochs')\n",
    "plt.ylabel('Loss')\n",
    "plt.legend()\n",
    "plt.show()"
   ]
  },
  {
   "cell_type": "code",
   "execution_count": null,
   "metadata": {
    "ExecuteTime": {
     "end_time": "2021-04-13T08:25:23.736013Z",
     "start_time": "2021-04-13T08:25:23.629803Z"
    }
   },
   "outputs": [],
   "source": [
    "cm = confusion_matrix(y_test, y_pred_class)\n",
    "print(cm)"
   ]
  },
  {
   "cell_type": "code",
   "execution_count": null,
   "metadata": {},
   "outputs": [],
   "source": []
  },
  {
   "cell_type": "code",
   "execution_count": null,
   "metadata": {},
   "outputs": [],
   "source": []
  },
  {
   "cell_type": "markdown",
   "metadata": {},
   "source": [
    "# Visualization"
   ]
  },
  {
   "cell_type": "code",
   "execution_count": null,
   "metadata": {
    "ExecuteTime": {
     "end_time": "2021-04-24T10:05:52.730892Z",
     "start_time": "2021-04-24T10:05:52.624382Z"
    }
   },
   "outputs": [],
   "source": [
    "# filter only relevant tweets\n",
    "geo_df = df[~df['geo'].isna()].reset_index(drop=True)\n",
    "geo_df = geo_df[geo_df['relevant']==1].reset_index(drop=True)\n",
    "for i in range(len(geo_df)):\n",
    "    try: \n",
    "        geo_df['geo'][i] = eval(geo_df['geo'][i])\n",
    "    except:\n",
    "        geo_df['geo'][i] = geo_df['geo'][i]\n",
    "\n",
    "#geo_df['coords'] = [geo_df['geo'][i]['coordinates'] for i in range(len(geo_df))]\n",
    "geo_df['lat'] = [geo_df['geo'][i]['coordinates'][0] for i in range(len(geo_df))]\n",
    "geo_df['lon'] = [geo_df['geo'][i]['coordinates'][1] for i in range(len(geo_df))]\n",
    "\n",
    "#geo_df.to_csv('data/geo_tweets.csv',index=False)"
   ]
  },
  {
   "cell_type": "markdown",
   "metadata": {},
   "source": [
    "## Folium, Leaflet, OpenStreetMap"
   ]
  },
  {
   "cell_type": "code",
   "execution_count": null,
   "metadata": {
    "ExecuteTime": {
     "end_time": "2021-04-18T16:27:44.093140Z",
     "start_time": "2021-04-18T16:27:43.223630Z"
    },
    "scrolled": false
   },
   "outputs": [],
   "source": [
    "# base map\n",
    "m = folium.Map([20.416775, -3.70379], tiles=None, zoom_start=2)\n",
    "\n",
    "# tile layers\n",
    "folium.TileLayer('cartodbpositron', show=True, name=\"light\").add_to(m)\n",
    "folium.TileLayer('cartodbdark_matter', show=False, name=\"dark\").add_to(m)\n",
    "folium.TileLayer('openstreetmap', show=False, name=\"color\").add_to(m)\n",
    "\n",
    "# add location marker cluster\n",
    "mc = MarkerCluster(name='Tweets').add_to(m)\n",
    "\n",
    "# create marker at locations\n",
    "for lat, lon, user_location, full_text, created_at, retweet_count in zip(geo_df['lat'], geo_df['lon'], geo_df['user_location'], \n",
    "                                     geo_df['full_text'], geo_df['created_at'], geo_df['retweet_count']):\n",
    "    text = folium.Html('Tweet: {}<br> User location: {}<br> Created at: {}<br> Retweet count: {}<br>'.format(full_text, user_location, created_at, retweet_count), script=True)\n",
    "    popup = folium.Popup(text, max_width=300)\n",
    "    folium.CircleMarker(location = [lat, lon],\n",
    "                        radius = 2,\n",
    "                        weight = 5,\n",
    "                        color = '#081d58',\n",
    "                        fill_color = '#081d58',\n",
    "                        fill = True,\n",
    "                        popup = popup,\n",
    "                        tooltip = 'Click on Tweet'\n",
    "                        ).add_to(mc)\n",
    "mc.add_to(m)\n",
    "\n",
    "# add layer control\n",
    "folium.LayerControl('topright', collapsed=True).add_to(m)\n",
    "\n",
    "m"
   ]
  },
  {
   "cell_type": "markdown",
   "metadata": {},
   "source": [
    "## kepler.gl\n",
    "\n",
    "https://medium.com/nightingale/how-to-create-eye-catching-maps-with-python-and-kepler-gl-e7e897eff8ac"
   ]
  },
  {
   "cell_type": "code",
   "execution_count": null,
   "metadata": {
    "ExecuteTime": {
     "end_time": "2021-04-24T12:10:52.502234Z",
     "start_time": "2021-04-24T12:10:52.439409Z"
    },
    "scrolled": false
   },
   "outputs": [],
   "source": [
    "viz_cols = ['lon','lat','created_at','full_text','user_location']\n",
    "kepler_map = keplergl.KeplerGl(height=500)\n",
    "kepler_map.add_data(data=geo_df[viz_cols], name=\"Extreme weather events\")\n",
    "#kepler_map.save_to_html(file_name=\"kepler_map.html\")\n",
    "kepler_map"
   ]
  },
  {
   "cell_type": "code",
   "execution_count": null,
   "metadata": {
    "ExecuteTime": {
     "end_time": "2021-04-18T16:34:46.460910Z",
     "start_time": "2021-04-18T16:34:46.458398Z"
    }
   },
   "outputs": [],
   "source": [
    "#config = kepler_map.config\n",
    "#config"
   ]
  },
  {
   "cell_type": "markdown",
   "metadata": {},
   "source": [
    "## Plotly, Mapbox"
   ]
  },
  {
   "cell_type": "code",
   "execution_count": null,
   "metadata": {
    "ExecuteTime": {
     "end_time": "2021-04-24T10:06:54.820928Z",
     "start_time": "2021-04-24T10:06:54.744093Z"
    },
    "scrolled": true
   },
   "outputs": [],
   "source": [
    "# point map\n",
    "scatter_map = px.scatter_mapbox(geo_df, lat=\"lat\", lon=\"lon\", hover_name=\"full_text\", \n",
    "                        hover_data=[\"created_at\", \"user_location\",'retweeted'],\n",
    "                        color_discrete_sequence=[\"teal\"], \n",
    "                        zoom=1, height=500)\n",
    "scatter_map.update_layout(mapbox_style=\"carto-positron\",margin={\"r\":0,\"t\":0,\"l\":0,\"b\":0})\n",
    "scatter_map.show()"
   ]
  },
  {
   "cell_type": "code",
   "execution_count": null,
   "metadata": {
    "ExecuteTime": {
     "end_time": "2021-04-24T11:01:45.233490Z",
     "start_time": "2021-04-24T11:01:45.163478Z"
    }
   },
   "outputs": [],
   "source": [
    "scatter_map = px.scatter_mapbox(\n",
    "    geo_df, lat=\"lat\", lon=\"lon\", \n",
    "    hover_data=['full_text',\"created_at\",\"user_location\"],\n",
    "    color = 'retweet_count',\n",
    "    color_continuous_scale='teal',\n",
    "    zoom=1, height=500)\n",
    "scatter_map.update_layout(mapbox_style=\"dark\",\n",
    "                          margin={\"r\":0,\"t\":0,\"l\":0,\"b\":0})\n",
    "scatter_map.show()"
   ]
  },
  {
   "cell_type": "code",
   "execution_count": null,
   "metadata": {
    "ExecuteTime": {
     "end_time": "2021-04-24T10:06:59.078504Z",
     "start_time": "2021-04-24T10:06:58.996026Z"
    }
   },
   "outputs": [],
   "source": [
    "# size by retweet_count\n",
    "scatter_map = px.scatter_mapbox(\n",
    "    geo_df, lat=\"lat\", lon=\"lon\", \n",
    "    size = 'retweet_count',\n",
    "    size_max = 15,\n",
    "    color='retweeted',\n",
    "    hover_data=['full_text'],\n",
    "    #color_discrete_sequence=[\"teal\",\"\"],\n",
    "    zoom=1, height=500)\n",
    "scatter_map.update_layout(mapbox_style=\"dark\",\n",
    "                          margin={\"r\":0,\"t\":0,\"l\":0,\"b\":0})\n",
    "scatter_map.show()"
   ]
  },
  {
   "cell_type": "code",
   "execution_count": null,
   "metadata": {
    "ExecuteTime": {
     "end_time": "2021-04-24T15:00:35.433908Z",
     "start_time": "2021-04-24T15:00:35.407014Z"
    }
   },
   "outputs": [],
   "source": [
    "# color by retweet_count\n",
    "colorscales = px.colors.named_colorscales()\n",
    "#mapbox_token = open(\".mapbox_token\").read()\n",
    "\n",
    "external_stylesheets = ['https://codepen.io/chriddyp/pen/bWLwgP.css']\n",
    "app = JupyterDash(__name__, external_stylesheets=external_stylesheets,\n",
    "                  meta_tags=[{\"name\": \"viewport\", \"content\": \"width=device-width, initial-scale=1\"}])\n",
    "\n",
    "server = app.server\n",
    "#app.title = tabtitle\n",
    "app.config.suppress_callback_exceptions = True\n",
    "\n",
    "app.layout = html.Div([\n",
    "    html.P(\"Color Scale\"),\n",
    "    dcc.Dropdown(id='colorscale',\n",
    "                 options=[{\"value\": x, \"label\": x} for x in colorscales],\n",
    "                 value='teal'),\n",
    "    dcc.Graph(id=\"scatter_map\"),\n",
    "])\n",
    "\n",
    "@app.callback(\n",
    "    Output(\"scatter_map\", \"figure\"),\n",
    "    [Input(\"colorscale\", \"value\")])\n",
    "def change_colorscale(scale):\n",
    "    fig = px.scatter_mapbox(geo_df, lat=\"lat\", lon=\"lon\",\n",
    "                            color='retweet_count',\n",
    "                            hover_data=[\"full_text\", \"user_location\"],\n",
    "                            color_continuous_scale=scale,\n",
    "                            zoom=1, height=500)\n",
    "    fig.update_layout(mapbox_style=\"dark\",\n",
    "                      margin={\"r\": 0, \"t\": 0, \"l\": 0, \"b\": 0},\n",
    "                      hovermode='closest',\n",
    "                      mapbox=dict(accesstoken=mapbox_token,\n",
    "                                  bearing=0,\n",
    "                                  pitch=0))\n",
    "    return fig\n",
    "\n",
    "app.run_server(mode='external', port=8060, use_reloader=False)"
   ]
  },
  {
   "cell_type": "code",
   "execution_count": null,
   "metadata": {
    "ExecuteTime": {
     "end_time": "2021-04-24T10:07:50.620070Z",
     "start_time": "2021-04-24T10:07:50.511192Z"
    }
   },
   "outputs": [],
   "source": [
    "hexabin_map = ff.create_hexbin_mapbox(data_frame=geo_df[['lat','lon']], lat=\"lat\", lon=\"lon\",\n",
    "                                      nx_hexagon=25, opacity=0.5, labels={\"color\": \"Relevant Tweets\"},\n",
    "                                      min_count=1, color_continuous_scale=\"Teal\",\n",
    "                                      show_original_data=True, height=500, zoom=0.95,\n",
    "                                      original_data_marker=dict(size=5, opacity=0.7, color=\"Teal\")\n",
    ")\n",
    "hexabin_map.update_layout(mapbox_style=\"carto-positron\",\n",
    "                          margin={\"r\":0,\"t\":0,\"l\":0,\"b\":0})\n",
    "hexabin_map.show()"
   ]
  },
  {
   "cell_type": "code",
   "execution_count": null,
   "metadata": {
    "ExecuteTime": {
     "end_time": "2021-04-24T10:08:10.633292Z",
     "start_time": "2021-04-24T10:08:10.608593Z"
    }
   },
   "outputs": [],
   "source": [
    "# find number of tweets by date\n",
    "df['Date'] = pd.to_datetime(df['created_at']).dt.date\n",
    "count_dates = df.groupby('Date').size().values\n",
    "time_df = df.drop_duplicates(subset=\"Date\").assign(Count=count_dates)\n",
    "time_df = time_df[['Date','Count']].sort_values(by='Date')"
   ]
  },
  {
   "cell_type": "code",
   "execution_count": null,
   "metadata": {
    "ExecuteTime": {
     "end_time": "2021-04-24T10:08:14.481162Z",
     "start_time": "2021-04-24T10:08:14.392364Z"
    }
   },
   "outputs": [],
   "source": [
    "line_fig = px.line(time_df, x='Date', y='Count', title='Relevant Tweets over time')\n",
    "\n",
    "line_fig.update_xaxes(\n",
    "    rangeslider_visible=True,\n",
    "    rangeselector=dict(\n",
    "        buttons=list([\n",
    "            dict(count=1, label=\"1m\", step=\"month\", stepmode=\"backward\"),\n",
    "            #dict(count=6, label=\"6m\", step=\"month\", stepmode=\"backward\"),\n",
    "            #dict(count=1, label=\"1y\", step=\"year\", stepmode=\"backward\"),\n",
    "            dict(step=\"all\")\n",
    "        ])\n",
    "    )\n",
    ")\n",
    "line_fig.show()"
   ]
  },
  {
   "cell_type": "markdown",
   "metadata": {},
   "source": [
    "## Plotly, Treemap"
   ]
  },
  {
   "cell_type": "code",
   "execution_count": null,
   "metadata": {},
   "outputs": [],
   "source": [
    "import nltk \n",
    "from nltk import FreqDist"
   ]
  },
  {
   "cell_type": "code",
   "execution_count": 122,
   "metadata": {
    "ExecuteTime": {
     "end_time": "2021-05-02T19:31:22.066272Z",
     "start_time": "2021-05-02T19:31:21.405039Z"
    }
   },
   "outputs": [],
   "source": [
    "df = pd.read_csv('data/final_tweets.csv')\n",
    "df.dropna(subset=['tokens'],inplace=True)\n",
    "df['tokens'] = [literal_eval(s) for s in df['tokens']]"
   ]
  },
  {
   "cell_type": "code",
   "execution_count": 178,
   "metadata": {
    "ExecuteTime": {
     "end_time": "2021-05-02T20:02:04.466829Z",
     "start_time": "2021-05-02T20:02:04.343608Z"
    }
   },
   "outputs": [
    {
     "data": {
      "text/html": [
       "<div>\n",
       "<style scoped>\n",
       "    .dataframe tbody tr th:only-of-type {\n",
       "        vertical-align: middle;\n",
       "    }\n",
       "\n",
       "    .dataframe tbody tr th {\n",
       "        vertical-align: top;\n",
       "    }\n",
       "\n",
       "    .dataframe thead th {\n",
       "        text-align: right;\n",
       "    }\n",
       "</style>\n",
       "<table border=\"1\" class=\"dataframe\">\n",
       "  <thead>\n",
       "    <tr style=\"text-align: right;\">\n",
       "      <th></th>\n",
       "      <th>Word</th>\n",
       "      <th>Occurrences</th>\n",
       "    </tr>\n",
       "  </thead>\n",
       "  <tbody>\n",
       "    <tr>\n",
       "      <th>218</th>\n",
       "      <td>flood</td>\n",
       "      <td>4681</td>\n",
       "    </tr>\n",
       "    <tr>\n",
       "      <th>274</th>\n",
       "      <td>rt</td>\n",
       "      <td>3004</td>\n",
       "    </tr>\n",
       "    <tr>\n",
       "      <th>7764</th>\n",
       "      <td>queensland</td>\n",
       "      <td>2113</td>\n",
       "    </tr>\n",
       "    <tr>\n",
       "      <th>12</th>\n",
       "      <td>yycflood</td>\n",
       "      <td>1715</td>\n",
       "    </tr>\n",
       "    <tr>\n",
       "      <th>7521</th>\n",
       "      <td>australia</td>\n",
       "      <td>1517</td>\n",
       "    </tr>\n",
       "    <tr>\n",
       "      <th>298</th>\n",
       "      <td>abflood</td>\n",
       "      <td>1150</td>\n",
       "    </tr>\n",
       "    <tr>\n",
       "      <th>8</th>\n",
       "      <td>calgary</td>\n",
       "      <td>1070</td>\n",
       "    </tr>\n",
       "    <tr>\n",
       "      <th>51</th>\n",
       "      <td>water</td>\n",
       "      <td>795</td>\n",
       "    </tr>\n",
       "    <tr>\n",
       "      <th>206</th>\n",
       "      <td>alberta</td>\n",
       "      <td>723</td>\n",
       "    </tr>\n",
       "    <tr>\n",
       "      <th>330</th>\n",
       "      <td>nt</td>\n",
       "      <td>690</td>\n",
       "    </tr>\n",
       "    <tr>\n",
       "      <th>1139</th>\n",
       "      <td>crisis</td>\n",
       "      <td>611</td>\n",
       "    </tr>\n",
       "    <tr>\n",
       "      <th>381</th>\n",
       "      <td>flooding</td>\n",
       "      <td>522</td>\n",
       "    </tr>\n",
       "    <tr>\n",
       "      <th>268</th>\n",
       "      <td>yyc</td>\n",
       "      <td>512</td>\n",
       "    </tr>\n",
       "    <tr>\n",
       "      <th>314</th>\n",
       "      <td>river</td>\n",
       "      <td>497</td>\n",
       "    </tr>\n",
       "    <tr>\n",
       "      <th>34</th>\n",
       "      <td>amp</td>\n",
       "      <td>482</td>\n",
       "    </tr>\n",
       "    <tr>\n",
       "      <th>498</th>\n",
       "      <td>help</td>\n",
       "      <td>468</td>\n",
       "    </tr>\n",
       "    <tr>\n",
       "      <th>231</th>\n",
       "      <td>get</td>\n",
       "      <td>453</td>\n",
       "    </tr>\n",
       "    <tr>\n",
       "      <th>605</th>\n",
       "      <td>new</td>\n",
       "      <td>446</td>\n",
       "    </tr>\n",
       "    <tr>\n",
       "      <th>234</th>\n",
       "      <td>people</td>\n",
       "      <td>438</td>\n",
       "    </tr>\n",
       "    <tr>\n",
       "      <th>2040</th>\n",
       "      <td>rise</td>\n",
       "      <td>424</td>\n",
       "    </tr>\n",
       "  </tbody>\n",
       "</table>\n",
       "</div>"
      ],
      "text/plain": [
       "            Word  Occurrences\n",
       "218        flood         4681\n",
       "274           rt         3004\n",
       "7764  queensland         2113\n",
       "12      yycflood         1715\n",
       "7521   australia         1517\n",
       "298      abflood         1150\n",
       "8        calgary         1070\n",
       "51         water          795\n",
       "206      alberta          723\n",
       "330           nt          690\n",
       "1139      crisis          611\n",
       "381     flooding          522\n",
       "268          yyc          512\n",
       "314        river          497\n",
       "34           amp          482\n",
       "498         help          468\n",
       "231          get          453\n",
       "605          new          446\n",
       "234       people          438\n",
       "2040        rise          424"
      ]
     },
     "execution_count": 178,
     "metadata": {},
     "output_type": "execute_result"
    }
   ],
   "source": [
    "token_list = df['tokens'].tolist()\n",
    "token_list = [token for sublist in token_list for token in sublist]\n",
    "\n",
    "freq = FreqDist(token_list)\n",
    "freq_df = pd.DataFrame(list(freq.items()), columns = [\"Word\",\"Occurrences\"]) \n",
    "freq_df = freq_df[freq_df['Word']!=' ']\n",
    "freq_df = freq_df[freq_df['Word']!='…']\n",
    "freq_df = freq_df.sort_values('Occurrences',ascending=False)\n",
    "freq_df[:20]"
   ]
  },
  {
   "cell_type": "code",
   "execution_count": 237,
   "metadata": {
    "ExecuteTime": {
     "end_time": "2021-05-02T20:32:58.469643Z",
     "start_time": "2021-05-02T20:32:58.452221Z"
    }
   },
   "outputs": [
    {
     "data": {
      "application/vnd.plotly.v1+json": {
       "config": {
        "plotlyServerURL": "https://plot.ly"
       },
       "data": [
        {
         "hovertemplate": "<b>%{label} </b> <br> Occurrences: %{value}<extra></extra>",
         "labels": [
          "flood",
          "rt",
          "queensland",
          "yycflood",
          "australia",
          "abflood",
          "calgary",
          "water",
          "alberta",
          "nt",
          "crisis",
          "flooding",
          "yyc",
          "river",
          "amp",
          "help",
          "get",
          "new",
          "people",
          "rise"
         ],
         "marker": {
          "colorscale": [
           [
            0,
            "rgb(3, 5, 18)"
           ],
           [
            0.09090909090909091,
            "rgb(25, 25, 51)"
           ],
           [
            0.18181818181818182,
            "rgb(44, 42, 87)"
           ],
           [
            0.2727272727272727,
            "rgb(58, 60, 125)"
           ],
           [
            0.36363636363636365,
            "rgb(62, 83, 160)"
           ],
           [
            0.45454545454545453,
            "rgb(62, 109, 178)"
           ],
           [
            0.5454545454545454,
            "rgb(72, 134, 187)"
           ],
           [
            0.6363636363636364,
            "rgb(89, 159, 196)"
           ],
           [
            0.7272727272727273,
            "rgb(114, 184, 205)"
           ],
           [
            0.8181818181818182,
            "rgb(149, 207, 216)"
           ],
           [
            0.9090909090909091,
            "rgb(192, 229, 232)"
           ],
           [
            1,
            "rgb(234, 252, 253)"
           ]
          ]
         },
         "parents": [
          "",
          "",
          "",
          "",
          "",
          "",
          "",
          "",
          "",
          "",
          "",
          "",
          "",
          "",
          "",
          "",
          "",
          "",
          "",
          ""
         ],
         "pathbar": {
          "visible": false
         },
         "type": "treemap",
         "values": [
          4681,
          3004,
          2113,
          1715,
          1517,
          1150,
          1070,
          795,
          723,
          690,
          611,
          522,
          512,
          497,
          482,
          468,
          453,
          446,
          438,
          424
         ]
        }
       ],
       "layout": {
        "template": {
         "data": {
          "bar": [
           {
            "error_x": {
             "color": "#2a3f5f"
            },
            "error_y": {
             "color": "#2a3f5f"
            },
            "marker": {
             "line": {
              "color": "#E5ECF6",
              "width": 0.5
             }
            },
            "type": "bar"
           }
          ],
          "barpolar": [
           {
            "marker": {
             "line": {
              "color": "#E5ECF6",
              "width": 0.5
             }
            },
            "type": "barpolar"
           }
          ],
          "carpet": [
           {
            "aaxis": {
             "endlinecolor": "#2a3f5f",
             "gridcolor": "white",
             "linecolor": "white",
             "minorgridcolor": "white",
             "startlinecolor": "#2a3f5f"
            },
            "baxis": {
             "endlinecolor": "#2a3f5f",
             "gridcolor": "white",
             "linecolor": "white",
             "minorgridcolor": "white",
             "startlinecolor": "#2a3f5f"
            },
            "type": "carpet"
           }
          ],
          "choropleth": [
           {
            "colorbar": {
             "outlinewidth": 0,
             "ticks": ""
            },
            "type": "choropleth"
           }
          ],
          "contour": [
           {
            "colorbar": {
             "outlinewidth": 0,
             "ticks": ""
            },
            "colorscale": [
             [
              0,
              "#0d0887"
             ],
             [
              0.1111111111111111,
              "#46039f"
             ],
             [
              0.2222222222222222,
              "#7201a8"
             ],
             [
              0.3333333333333333,
              "#9c179e"
             ],
             [
              0.4444444444444444,
              "#bd3786"
             ],
             [
              0.5555555555555556,
              "#d8576b"
             ],
             [
              0.6666666666666666,
              "#ed7953"
             ],
             [
              0.7777777777777778,
              "#fb9f3a"
             ],
             [
              0.8888888888888888,
              "#fdca26"
             ],
             [
              1,
              "#f0f921"
             ]
            ],
            "type": "contour"
           }
          ],
          "contourcarpet": [
           {
            "colorbar": {
             "outlinewidth": 0,
             "ticks": ""
            },
            "type": "contourcarpet"
           }
          ],
          "heatmap": [
           {
            "colorbar": {
             "outlinewidth": 0,
             "ticks": ""
            },
            "colorscale": [
             [
              0,
              "#0d0887"
             ],
             [
              0.1111111111111111,
              "#46039f"
             ],
             [
              0.2222222222222222,
              "#7201a8"
             ],
             [
              0.3333333333333333,
              "#9c179e"
             ],
             [
              0.4444444444444444,
              "#bd3786"
             ],
             [
              0.5555555555555556,
              "#d8576b"
             ],
             [
              0.6666666666666666,
              "#ed7953"
             ],
             [
              0.7777777777777778,
              "#fb9f3a"
             ],
             [
              0.8888888888888888,
              "#fdca26"
             ],
             [
              1,
              "#f0f921"
             ]
            ],
            "type": "heatmap"
           }
          ],
          "heatmapgl": [
           {
            "colorbar": {
             "outlinewidth": 0,
             "ticks": ""
            },
            "colorscale": [
             [
              0,
              "#0d0887"
             ],
             [
              0.1111111111111111,
              "#46039f"
             ],
             [
              0.2222222222222222,
              "#7201a8"
             ],
             [
              0.3333333333333333,
              "#9c179e"
             ],
             [
              0.4444444444444444,
              "#bd3786"
             ],
             [
              0.5555555555555556,
              "#d8576b"
             ],
             [
              0.6666666666666666,
              "#ed7953"
             ],
             [
              0.7777777777777778,
              "#fb9f3a"
             ],
             [
              0.8888888888888888,
              "#fdca26"
             ],
             [
              1,
              "#f0f921"
             ]
            ],
            "type": "heatmapgl"
           }
          ],
          "histogram": [
           {
            "marker": {
             "colorbar": {
              "outlinewidth": 0,
              "ticks": ""
             }
            },
            "type": "histogram"
           }
          ],
          "histogram2d": [
           {
            "colorbar": {
             "outlinewidth": 0,
             "ticks": ""
            },
            "colorscale": [
             [
              0,
              "#0d0887"
             ],
             [
              0.1111111111111111,
              "#46039f"
             ],
             [
              0.2222222222222222,
              "#7201a8"
             ],
             [
              0.3333333333333333,
              "#9c179e"
             ],
             [
              0.4444444444444444,
              "#bd3786"
             ],
             [
              0.5555555555555556,
              "#d8576b"
             ],
             [
              0.6666666666666666,
              "#ed7953"
             ],
             [
              0.7777777777777778,
              "#fb9f3a"
             ],
             [
              0.8888888888888888,
              "#fdca26"
             ],
             [
              1,
              "#f0f921"
             ]
            ],
            "type": "histogram2d"
           }
          ],
          "histogram2dcontour": [
           {
            "colorbar": {
             "outlinewidth": 0,
             "ticks": ""
            },
            "colorscale": [
             [
              0,
              "#0d0887"
             ],
             [
              0.1111111111111111,
              "#46039f"
             ],
             [
              0.2222222222222222,
              "#7201a8"
             ],
             [
              0.3333333333333333,
              "#9c179e"
             ],
             [
              0.4444444444444444,
              "#bd3786"
             ],
             [
              0.5555555555555556,
              "#d8576b"
             ],
             [
              0.6666666666666666,
              "#ed7953"
             ],
             [
              0.7777777777777778,
              "#fb9f3a"
             ],
             [
              0.8888888888888888,
              "#fdca26"
             ],
             [
              1,
              "#f0f921"
             ]
            ],
            "type": "histogram2dcontour"
           }
          ],
          "mesh3d": [
           {
            "colorbar": {
             "outlinewidth": 0,
             "ticks": ""
            },
            "type": "mesh3d"
           }
          ],
          "parcoords": [
           {
            "line": {
             "colorbar": {
              "outlinewidth": 0,
              "ticks": ""
             }
            },
            "type": "parcoords"
           }
          ],
          "pie": [
           {
            "automargin": true,
            "type": "pie"
           }
          ],
          "scatter": [
           {
            "marker": {
             "colorbar": {
              "outlinewidth": 0,
              "ticks": ""
             }
            },
            "type": "scatter"
           }
          ],
          "scatter3d": [
           {
            "line": {
             "colorbar": {
              "outlinewidth": 0,
              "ticks": ""
             }
            },
            "marker": {
             "colorbar": {
              "outlinewidth": 0,
              "ticks": ""
             }
            },
            "type": "scatter3d"
           }
          ],
          "scattercarpet": [
           {
            "marker": {
             "colorbar": {
              "outlinewidth": 0,
              "ticks": ""
             }
            },
            "type": "scattercarpet"
           }
          ],
          "scattergeo": [
           {
            "marker": {
             "colorbar": {
              "outlinewidth": 0,
              "ticks": ""
             }
            },
            "type": "scattergeo"
           }
          ],
          "scattergl": [
           {
            "marker": {
             "colorbar": {
              "outlinewidth": 0,
              "ticks": ""
             }
            },
            "type": "scattergl"
           }
          ],
          "scattermapbox": [
           {
            "marker": {
             "colorbar": {
              "outlinewidth": 0,
              "ticks": ""
             }
            },
            "type": "scattermapbox"
           }
          ],
          "scatterpolar": [
           {
            "marker": {
             "colorbar": {
              "outlinewidth": 0,
              "ticks": ""
             }
            },
            "type": "scatterpolar"
           }
          ],
          "scatterpolargl": [
           {
            "marker": {
             "colorbar": {
              "outlinewidth": 0,
              "ticks": ""
             }
            },
            "type": "scatterpolargl"
           }
          ],
          "scatterternary": [
           {
            "marker": {
             "colorbar": {
              "outlinewidth": 0,
              "ticks": ""
             }
            },
            "type": "scatterternary"
           }
          ],
          "surface": [
           {
            "colorbar": {
             "outlinewidth": 0,
             "ticks": ""
            },
            "colorscale": [
             [
              0,
              "#0d0887"
             ],
             [
              0.1111111111111111,
              "#46039f"
             ],
             [
              0.2222222222222222,
              "#7201a8"
             ],
             [
              0.3333333333333333,
              "#9c179e"
             ],
             [
              0.4444444444444444,
              "#bd3786"
             ],
             [
              0.5555555555555556,
              "#d8576b"
             ],
             [
              0.6666666666666666,
              "#ed7953"
             ],
             [
              0.7777777777777778,
              "#fb9f3a"
             ],
             [
              0.8888888888888888,
              "#fdca26"
             ],
             [
              1,
              "#f0f921"
             ]
            ],
            "type": "surface"
           }
          ],
          "table": [
           {
            "cells": {
             "fill": {
              "color": "#EBF0F8"
             },
             "line": {
              "color": "white"
             }
            },
            "header": {
             "fill": {
              "color": "#C8D4E3"
             },
             "line": {
              "color": "white"
             }
            },
            "type": "table"
           }
          ]
         },
         "layout": {
          "annotationdefaults": {
           "arrowcolor": "#2a3f5f",
           "arrowhead": 0,
           "arrowwidth": 1
          },
          "coloraxis": {
           "colorbar": {
            "outlinewidth": 0,
            "ticks": ""
           }
          },
          "colorscale": {
           "diverging": [
            [
             0,
             "#8e0152"
            ],
            [
             0.1,
             "#c51b7d"
            ],
            [
             0.2,
             "#de77ae"
            ],
            [
             0.3,
             "#f1b6da"
            ],
            [
             0.4,
             "#fde0ef"
            ],
            [
             0.5,
             "#f7f7f7"
            ],
            [
             0.6,
             "#e6f5d0"
            ],
            [
             0.7,
             "#b8e186"
            ],
            [
             0.8,
             "#7fbc41"
            ],
            [
             0.9,
             "#4d9221"
            ],
            [
             1,
             "#276419"
            ]
           ],
           "sequential": [
            [
             0,
             "#0d0887"
            ],
            [
             0.1111111111111111,
             "#46039f"
            ],
            [
             0.2222222222222222,
             "#7201a8"
            ],
            [
             0.3333333333333333,
             "#9c179e"
            ],
            [
             0.4444444444444444,
             "#bd3786"
            ],
            [
             0.5555555555555556,
             "#d8576b"
            ],
            [
             0.6666666666666666,
             "#ed7953"
            ],
            [
             0.7777777777777778,
             "#fb9f3a"
            ],
            [
             0.8888888888888888,
             "#fdca26"
            ],
            [
             1,
             "#f0f921"
            ]
           ],
           "sequentialminus": [
            [
             0,
             "#0d0887"
            ],
            [
             0.1111111111111111,
             "#46039f"
            ],
            [
             0.2222222222222222,
             "#7201a8"
            ],
            [
             0.3333333333333333,
             "#9c179e"
            ],
            [
             0.4444444444444444,
             "#bd3786"
            ],
            [
             0.5555555555555556,
             "#d8576b"
            ],
            [
             0.6666666666666666,
             "#ed7953"
            ],
            [
             0.7777777777777778,
             "#fb9f3a"
            ],
            [
             0.8888888888888888,
             "#fdca26"
            ],
            [
             1,
             "#f0f921"
            ]
           ]
          },
          "colorway": [
           "#636efa",
           "#EF553B",
           "#00cc96",
           "#ab63fa",
           "#FFA15A",
           "#19d3f3",
           "#FF6692",
           "#B6E880",
           "#FF97FF",
           "#FECB52"
          ],
          "font": {
           "color": "#2a3f5f"
          },
          "geo": {
           "bgcolor": "white",
           "lakecolor": "white",
           "landcolor": "#E5ECF6",
           "showlakes": true,
           "showland": true,
           "subunitcolor": "white"
          },
          "hoverlabel": {
           "align": "left"
          },
          "hovermode": "closest",
          "mapbox": {
           "style": "light"
          },
          "paper_bgcolor": "white",
          "plot_bgcolor": "#E5ECF6",
          "polar": {
           "angularaxis": {
            "gridcolor": "white",
            "linecolor": "white",
            "ticks": ""
           },
           "bgcolor": "#E5ECF6",
           "radialaxis": {
            "gridcolor": "white",
            "linecolor": "white",
            "ticks": ""
           }
          },
          "scene": {
           "xaxis": {
            "backgroundcolor": "#E5ECF6",
            "gridcolor": "white",
            "gridwidth": 2,
            "linecolor": "white",
            "showbackground": true,
            "ticks": "",
            "zerolinecolor": "white"
           },
           "yaxis": {
            "backgroundcolor": "#E5ECF6",
            "gridcolor": "white",
            "gridwidth": 2,
            "linecolor": "white",
            "showbackground": true,
            "ticks": "",
            "zerolinecolor": "white"
           },
           "zaxis": {
            "backgroundcolor": "#E5ECF6",
            "gridcolor": "white",
            "gridwidth": 2,
            "linecolor": "white",
            "showbackground": true,
            "ticks": "",
            "zerolinecolor": "white"
           }
          },
          "shapedefaults": {
           "line": {
            "color": "#2a3f5f"
           }
          },
          "ternary": {
           "aaxis": {
            "gridcolor": "white",
            "linecolor": "white",
            "ticks": ""
           },
           "baxis": {
            "gridcolor": "white",
            "linecolor": "white",
            "ticks": ""
           },
           "bgcolor": "#E5ECF6",
           "caxis": {
            "gridcolor": "white",
            "linecolor": "white",
            "ticks": ""
           }
          },
          "title": {
           "x": 0.05
          },
          "xaxis": {
           "automargin": true,
           "gridcolor": "white",
           "linecolor": "white",
           "ticks": "",
           "title": {
            "standoff": 15
           },
           "zerolinecolor": "white",
           "zerolinewidth": 2
          },
          "yaxis": {
           "automargin": true,
           "gridcolor": "white",
           "linecolor": "white",
           "ticks": "",
           "title": {
            "standoff": 15
           },
           "zerolinecolor": "white",
           "zerolinewidth": 2
          }
         }
        }
       }
      },
      "text/html": [
       "<div>                            <div id=\"6e5fe7ec-fa68-48b0-8d46-08cd8f768ac9\" class=\"plotly-graph-div\" style=\"height:525px; width:100%;\"></div>            <script type=\"text/javascript\">                require([\"plotly\"], function(Plotly) {                    window.PLOTLYENV=window.PLOTLYENV || {};                                    if (document.getElementById(\"6e5fe7ec-fa68-48b0-8d46-08cd8f768ac9\")) {                    Plotly.newPlot(                        \"6e5fe7ec-fa68-48b0-8d46-08cd8f768ac9\",                        [{\"hovertemplate\": \"<b>%{label} </b> <br> Occurrences: %{value}<extra></extra>\", \"labels\": [\"flood\", \"rt\", \"queensland\", \"yycflood\", \"australia\", \"abflood\", \"calgary\", \"water\", \"alberta\", \"nt\", \"crisis\", \"flooding\", \"yyc\", \"river\", \"amp\", \"help\", \"get\", \"new\", \"people\", \"rise\"], \"marker\": {\"colorscale\": [[0.0, \"rgb(3, 5, 18)\"], [0.09090909090909091, \"rgb(25, 25, 51)\"], [0.18181818181818182, \"rgb(44, 42, 87)\"], [0.2727272727272727, \"rgb(58, 60, 125)\"], [0.36363636363636365, \"rgb(62, 83, 160)\"], [0.45454545454545453, \"rgb(62, 109, 178)\"], [0.5454545454545454, \"rgb(72, 134, 187)\"], [0.6363636363636364, \"rgb(89, 159, 196)\"], [0.7272727272727273, \"rgb(114, 184, 205)\"], [0.8181818181818182, \"rgb(149, 207, 216)\"], [0.9090909090909091, \"rgb(192, 229, 232)\"], [1.0, \"rgb(234, 252, 253)\"]]}, \"parents\": [\"\", \"\", \"\", \"\", \"\", \"\", \"\", \"\", \"\", \"\", \"\", \"\", \"\", \"\", \"\", \"\", \"\", \"\", \"\", \"\"], \"pathbar\": {\"visible\": false}, \"type\": \"treemap\", \"values\": [4681, 3004, 2113, 1715, 1517, 1150, 1070, 795, 723, 690, 611, 522, 512, 497, 482, 468, 453, 446, 438, 424]}],                        {\"template\": {\"data\": {\"bar\": [{\"error_x\": {\"color\": \"#2a3f5f\"}, \"error_y\": {\"color\": \"#2a3f5f\"}, \"marker\": {\"line\": {\"color\": \"#E5ECF6\", \"width\": 0.5}}, \"type\": \"bar\"}], \"barpolar\": [{\"marker\": {\"line\": {\"color\": \"#E5ECF6\", \"width\": 0.5}}, \"type\": \"barpolar\"}], \"carpet\": [{\"aaxis\": {\"endlinecolor\": \"#2a3f5f\", \"gridcolor\": \"white\", \"linecolor\": \"white\", \"minorgridcolor\": \"white\", \"startlinecolor\": \"#2a3f5f\"}, \"baxis\": {\"endlinecolor\": \"#2a3f5f\", \"gridcolor\": \"white\", \"linecolor\": \"white\", \"minorgridcolor\": \"white\", \"startlinecolor\": \"#2a3f5f\"}, \"type\": \"carpet\"}], \"choropleth\": [{\"colorbar\": {\"outlinewidth\": 0, \"ticks\": \"\"}, \"type\": \"choropleth\"}], \"contour\": [{\"colorbar\": {\"outlinewidth\": 0, \"ticks\": \"\"}, \"colorscale\": [[0.0, \"#0d0887\"], [0.1111111111111111, \"#46039f\"], [0.2222222222222222, \"#7201a8\"], [0.3333333333333333, \"#9c179e\"], [0.4444444444444444, \"#bd3786\"], [0.5555555555555556, \"#d8576b\"], [0.6666666666666666, \"#ed7953\"], [0.7777777777777778, \"#fb9f3a\"], [0.8888888888888888, \"#fdca26\"], [1.0, \"#f0f921\"]], \"type\": \"contour\"}], \"contourcarpet\": [{\"colorbar\": {\"outlinewidth\": 0, \"ticks\": \"\"}, \"type\": \"contourcarpet\"}], \"heatmap\": [{\"colorbar\": {\"outlinewidth\": 0, \"ticks\": \"\"}, \"colorscale\": [[0.0, \"#0d0887\"], [0.1111111111111111, \"#46039f\"], [0.2222222222222222, \"#7201a8\"], [0.3333333333333333, \"#9c179e\"], [0.4444444444444444, \"#bd3786\"], [0.5555555555555556, \"#d8576b\"], [0.6666666666666666, \"#ed7953\"], [0.7777777777777778, \"#fb9f3a\"], [0.8888888888888888, \"#fdca26\"], [1.0, \"#f0f921\"]], \"type\": \"heatmap\"}], \"heatmapgl\": [{\"colorbar\": {\"outlinewidth\": 0, \"ticks\": \"\"}, \"colorscale\": [[0.0, \"#0d0887\"], [0.1111111111111111, \"#46039f\"], [0.2222222222222222, \"#7201a8\"], [0.3333333333333333, \"#9c179e\"], [0.4444444444444444, \"#bd3786\"], [0.5555555555555556, \"#d8576b\"], [0.6666666666666666, \"#ed7953\"], [0.7777777777777778, \"#fb9f3a\"], [0.8888888888888888, \"#fdca26\"], [1.0, \"#f0f921\"]], \"type\": \"heatmapgl\"}], \"histogram\": [{\"marker\": {\"colorbar\": {\"outlinewidth\": 0, \"ticks\": \"\"}}, \"type\": \"histogram\"}], \"histogram2d\": [{\"colorbar\": {\"outlinewidth\": 0, \"ticks\": \"\"}, \"colorscale\": [[0.0, \"#0d0887\"], [0.1111111111111111, \"#46039f\"], [0.2222222222222222, \"#7201a8\"], [0.3333333333333333, \"#9c179e\"], [0.4444444444444444, \"#bd3786\"], [0.5555555555555556, \"#d8576b\"], [0.6666666666666666, \"#ed7953\"], [0.7777777777777778, \"#fb9f3a\"], [0.8888888888888888, \"#fdca26\"], [1.0, \"#f0f921\"]], \"type\": \"histogram2d\"}], \"histogram2dcontour\": [{\"colorbar\": {\"outlinewidth\": 0, \"ticks\": \"\"}, \"colorscale\": [[0.0, \"#0d0887\"], [0.1111111111111111, \"#46039f\"], [0.2222222222222222, \"#7201a8\"], [0.3333333333333333, \"#9c179e\"], [0.4444444444444444, \"#bd3786\"], [0.5555555555555556, \"#d8576b\"], [0.6666666666666666, \"#ed7953\"], [0.7777777777777778, \"#fb9f3a\"], [0.8888888888888888, \"#fdca26\"], [1.0, \"#f0f921\"]], \"type\": \"histogram2dcontour\"}], \"mesh3d\": [{\"colorbar\": {\"outlinewidth\": 0, \"ticks\": \"\"}, \"type\": \"mesh3d\"}], \"parcoords\": [{\"line\": {\"colorbar\": {\"outlinewidth\": 0, \"ticks\": \"\"}}, \"type\": \"parcoords\"}], \"pie\": [{\"automargin\": true, \"type\": \"pie\"}], \"scatter\": [{\"marker\": {\"colorbar\": {\"outlinewidth\": 0, \"ticks\": \"\"}}, \"type\": \"scatter\"}], \"scatter3d\": [{\"line\": {\"colorbar\": {\"outlinewidth\": 0, \"ticks\": \"\"}}, \"marker\": {\"colorbar\": {\"outlinewidth\": 0, \"ticks\": \"\"}}, \"type\": \"scatter3d\"}], \"scattercarpet\": [{\"marker\": {\"colorbar\": {\"outlinewidth\": 0, \"ticks\": \"\"}}, \"type\": \"scattercarpet\"}], \"scattergeo\": [{\"marker\": {\"colorbar\": {\"outlinewidth\": 0, \"ticks\": \"\"}}, \"type\": \"scattergeo\"}], \"scattergl\": [{\"marker\": {\"colorbar\": {\"outlinewidth\": 0, \"ticks\": \"\"}}, \"type\": \"scattergl\"}], \"scattermapbox\": [{\"marker\": {\"colorbar\": {\"outlinewidth\": 0, \"ticks\": \"\"}}, \"type\": \"scattermapbox\"}], \"scatterpolar\": [{\"marker\": {\"colorbar\": {\"outlinewidth\": 0, \"ticks\": \"\"}}, \"type\": \"scatterpolar\"}], \"scatterpolargl\": [{\"marker\": {\"colorbar\": {\"outlinewidth\": 0, \"ticks\": \"\"}}, \"type\": \"scatterpolargl\"}], \"scatterternary\": [{\"marker\": {\"colorbar\": {\"outlinewidth\": 0, \"ticks\": \"\"}}, \"type\": \"scatterternary\"}], \"surface\": [{\"colorbar\": {\"outlinewidth\": 0, \"ticks\": \"\"}, \"colorscale\": [[0.0, \"#0d0887\"], [0.1111111111111111, \"#46039f\"], [0.2222222222222222, \"#7201a8\"], [0.3333333333333333, \"#9c179e\"], [0.4444444444444444, \"#bd3786\"], [0.5555555555555556, \"#d8576b\"], [0.6666666666666666, \"#ed7953\"], [0.7777777777777778, \"#fb9f3a\"], [0.8888888888888888, \"#fdca26\"], [1.0, \"#f0f921\"]], \"type\": \"surface\"}], \"table\": [{\"cells\": {\"fill\": {\"color\": \"#EBF0F8\"}, \"line\": {\"color\": \"white\"}}, \"header\": {\"fill\": {\"color\": \"#C8D4E3\"}, \"line\": {\"color\": \"white\"}}, \"type\": \"table\"}]}, \"layout\": {\"annotationdefaults\": {\"arrowcolor\": \"#2a3f5f\", \"arrowhead\": 0, \"arrowwidth\": 1}, \"coloraxis\": {\"colorbar\": {\"outlinewidth\": 0, \"ticks\": \"\"}}, \"colorscale\": {\"diverging\": [[0, \"#8e0152\"], [0.1, \"#c51b7d\"], [0.2, \"#de77ae\"], [0.3, \"#f1b6da\"], [0.4, \"#fde0ef\"], [0.5, \"#f7f7f7\"], [0.6, \"#e6f5d0\"], [0.7, \"#b8e186\"], [0.8, \"#7fbc41\"], [0.9, \"#4d9221\"], [1, \"#276419\"]], \"sequential\": [[0.0, \"#0d0887\"], [0.1111111111111111, \"#46039f\"], [0.2222222222222222, \"#7201a8\"], [0.3333333333333333, \"#9c179e\"], [0.4444444444444444, \"#bd3786\"], [0.5555555555555556, \"#d8576b\"], [0.6666666666666666, \"#ed7953\"], [0.7777777777777778, \"#fb9f3a\"], [0.8888888888888888, \"#fdca26\"], [1.0, \"#f0f921\"]], \"sequentialminus\": [[0.0, \"#0d0887\"], [0.1111111111111111, \"#46039f\"], [0.2222222222222222, \"#7201a8\"], [0.3333333333333333, \"#9c179e\"], [0.4444444444444444, \"#bd3786\"], [0.5555555555555556, \"#d8576b\"], [0.6666666666666666, \"#ed7953\"], [0.7777777777777778, \"#fb9f3a\"], [0.8888888888888888, \"#fdca26\"], [1.0, \"#f0f921\"]]}, \"colorway\": [\"#636efa\", \"#EF553B\", \"#00cc96\", \"#ab63fa\", \"#FFA15A\", \"#19d3f3\", \"#FF6692\", \"#B6E880\", \"#FF97FF\", \"#FECB52\"], \"font\": {\"color\": \"#2a3f5f\"}, \"geo\": {\"bgcolor\": \"white\", \"lakecolor\": \"white\", \"landcolor\": \"#E5ECF6\", \"showlakes\": true, \"showland\": true, \"subunitcolor\": \"white\"}, \"hoverlabel\": {\"align\": \"left\"}, \"hovermode\": \"closest\", \"mapbox\": {\"style\": \"light\"}, \"paper_bgcolor\": \"white\", \"plot_bgcolor\": \"#E5ECF6\", \"polar\": {\"angularaxis\": {\"gridcolor\": \"white\", \"linecolor\": \"white\", \"ticks\": \"\"}, \"bgcolor\": \"#E5ECF6\", \"radialaxis\": {\"gridcolor\": \"white\", \"linecolor\": \"white\", \"ticks\": \"\"}}, \"scene\": {\"xaxis\": {\"backgroundcolor\": \"#E5ECF6\", \"gridcolor\": \"white\", \"gridwidth\": 2, \"linecolor\": \"white\", \"showbackground\": true, \"ticks\": \"\", \"zerolinecolor\": \"white\"}, \"yaxis\": {\"backgroundcolor\": \"#E5ECF6\", \"gridcolor\": \"white\", \"gridwidth\": 2, \"linecolor\": \"white\", \"showbackground\": true, \"ticks\": \"\", \"zerolinecolor\": \"white\"}, \"zaxis\": {\"backgroundcolor\": \"#E5ECF6\", \"gridcolor\": \"white\", \"gridwidth\": 2, \"linecolor\": \"white\", \"showbackground\": true, \"ticks\": \"\", \"zerolinecolor\": \"white\"}}, \"shapedefaults\": {\"line\": {\"color\": \"#2a3f5f\"}}, \"ternary\": {\"aaxis\": {\"gridcolor\": \"white\", \"linecolor\": \"white\", \"ticks\": \"\"}, \"baxis\": {\"gridcolor\": \"white\", \"linecolor\": \"white\", \"ticks\": \"\"}, \"bgcolor\": \"#E5ECF6\", \"caxis\": {\"gridcolor\": \"white\", \"linecolor\": \"white\", \"ticks\": \"\"}}, \"title\": {\"x\": 0.05}, \"xaxis\": {\"automargin\": true, \"gridcolor\": \"white\", \"linecolor\": \"white\", \"ticks\": \"\", \"title\": {\"standoff\": 15}, \"zerolinecolor\": \"white\", \"zerolinewidth\": 2}, \"yaxis\": {\"automargin\": true, \"gridcolor\": \"white\", \"linecolor\": \"white\", \"ticks\": \"\", \"title\": {\"standoff\": 15}, \"zerolinecolor\": \"white\", \"zerolinewidth\": 2}}}},                        {\"responsive\": true}                    ).then(function(){\n",
       "                            \n",
       "var gd = document.getElementById('6e5fe7ec-fa68-48b0-8d46-08cd8f768ac9');\n",
       "var x = new MutationObserver(function (mutations, observer) {{\n",
       "        var display = window.getComputedStyle(gd).display;\n",
       "        if (!display || display === 'none') {{\n",
       "            console.log([gd, 'removed!']);\n",
       "            Plotly.purge(gd);\n",
       "            observer.disconnect();\n",
       "        }}\n",
       "}});\n",
       "\n",
       "// Listen for the removal of the full notebook cells\n",
       "var notebookContainer = gd.closest('#notebook-container');\n",
       "if (notebookContainer) {{\n",
       "    x.observe(notebookContainer, {childList: true});\n",
       "}}\n",
       "\n",
       "// Listen for the clearing of the current output cell\n",
       "var outputEl = gd.closest('.output');\n",
       "if (outputEl) {{\n",
       "    x.observe(outputEl, {childList: true});\n",
       "}}\n",
       "\n",
       "                        })                };                });            </script>        </div>"
      ]
     },
     "metadata": {},
     "output_type": "display_data"
    }
   ],
   "source": [
    "fig = go.Figure(go.Treemap(\n",
    "    labels=freq_df['Word'][:20].tolist(),\n",
    "    values=freq_df['Occurrences'][:20].tolist(),\n",
    "    parents=['']*20,\n",
    "    marker_colorscale=px.colors.sequential.Teal, # Burg, Darkmint, Mint, PuBu, Teal, YlGnBu, deep, ice, tempo\n",
    "    hovertemplate='<b>%{label} </b> <br> Occurrences: %{value}<extra></extra>',\n",
    "    pathbar={\"visible\": False},\n",
    "))\n",
    "\n",
    "fig.show()"
   ]
  },
  {
   "cell_type": "code",
   "execution_count": null,
   "metadata": {},
   "outputs": [],
   "source": [
    "px.colors.sequential.Teal, # Burg, Darkmint, Mint, PuBu, Teal, YlGnBu, deep, ice, tempo"
   ]
  },
  {
   "cell_type": "code",
   "execution_count": 189,
   "metadata": {
    "ExecuteTime": {
     "end_time": "2021-05-02T20:19:08.307852Z",
     "start_time": "2021-05-02T20:19:08.288069Z"
    },
    "scrolled": false
   },
   "outputs": [
    {
     "data": {
      "application/vnd.plotly.v1+json": {
       "config": {
        "plotlyServerURL": "https://plot.ly"
       },
       "data": [
        {
         "hovertemplate": "<b>%{label} </b> <br> occurrences: %{value}<extra></extra>",
         "labels": [
          "#flood",
          "#flooding",
          "#waterdamage",
          "#insurance",
          "#restoration",
          "#water",
          "#rain",
          "#fire",
          "#mold",
          "#nature",
          "#flooddamage",
          "#storm"
         ],
         "marker": {
          "colorscale": [
           [
            0,
            "#636EFA"
           ],
           [
            0.1111111111111111,
            "#EF553B"
           ],
           [
            0.2222222222222222,
            "#00CC96"
           ],
           [
            0.3333333333333333,
            "#AB63FA"
           ],
           [
            0.4444444444444444,
            "#FFA15A"
           ],
           [
            0.5555555555555556,
            "#19D3F3"
           ],
           [
            0.6666666666666666,
            "#FF6692"
           ],
           [
            0.7777777777777778,
            "#B6E880"
           ],
           [
            0.8888888888888888,
            "#FF97FF"
           ],
           [
            1,
            "#FECB52"
           ]
          ]
         },
         "parents": [
          "",
          "",
          "",
          "",
          "",
          "",
          "",
          "",
          "",
          "",
          "",
          ""
         ],
         "pathbar": {
          "visible": false
         },
         "type": "treemap",
         "values": [
          "310",
          "120",
          "13",
          "14",
          "15",
          "20",
          "30",
          "110",
          "20",
          "136",
          "144",
          "125"
         ]
        }
       ],
       "layout": {
        "template": {
         "data": {
          "bar": [
           {
            "error_x": {
             "color": "#2a3f5f"
            },
            "error_y": {
             "color": "#2a3f5f"
            },
            "marker": {
             "line": {
              "color": "#E5ECF6",
              "width": 0.5
             }
            },
            "type": "bar"
           }
          ],
          "barpolar": [
           {
            "marker": {
             "line": {
              "color": "#E5ECF6",
              "width": 0.5
             }
            },
            "type": "barpolar"
           }
          ],
          "carpet": [
           {
            "aaxis": {
             "endlinecolor": "#2a3f5f",
             "gridcolor": "white",
             "linecolor": "white",
             "minorgridcolor": "white",
             "startlinecolor": "#2a3f5f"
            },
            "baxis": {
             "endlinecolor": "#2a3f5f",
             "gridcolor": "white",
             "linecolor": "white",
             "minorgridcolor": "white",
             "startlinecolor": "#2a3f5f"
            },
            "type": "carpet"
           }
          ],
          "choropleth": [
           {
            "colorbar": {
             "outlinewidth": 0,
             "ticks": ""
            },
            "type": "choropleth"
           }
          ],
          "contour": [
           {
            "colorbar": {
             "outlinewidth": 0,
             "ticks": ""
            },
            "colorscale": [
             [
              0,
              "#0d0887"
             ],
             [
              0.1111111111111111,
              "#46039f"
             ],
             [
              0.2222222222222222,
              "#7201a8"
             ],
             [
              0.3333333333333333,
              "#9c179e"
             ],
             [
              0.4444444444444444,
              "#bd3786"
             ],
             [
              0.5555555555555556,
              "#d8576b"
             ],
             [
              0.6666666666666666,
              "#ed7953"
             ],
             [
              0.7777777777777778,
              "#fb9f3a"
             ],
             [
              0.8888888888888888,
              "#fdca26"
             ],
             [
              1,
              "#f0f921"
             ]
            ],
            "type": "contour"
           }
          ],
          "contourcarpet": [
           {
            "colorbar": {
             "outlinewidth": 0,
             "ticks": ""
            },
            "type": "contourcarpet"
           }
          ],
          "heatmap": [
           {
            "colorbar": {
             "outlinewidth": 0,
             "ticks": ""
            },
            "colorscale": [
             [
              0,
              "#0d0887"
             ],
             [
              0.1111111111111111,
              "#46039f"
             ],
             [
              0.2222222222222222,
              "#7201a8"
             ],
             [
              0.3333333333333333,
              "#9c179e"
             ],
             [
              0.4444444444444444,
              "#bd3786"
             ],
             [
              0.5555555555555556,
              "#d8576b"
             ],
             [
              0.6666666666666666,
              "#ed7953"
             ],
             [
              0.7777777777777778,
              "#fb9f3a"
             ],
             [
              0.8888888888888888,
              "#fdca26"
             ],
             [
              1,
              "#f0f921"
             ]
            ],
            "type": "heatmap"
           }
          ],
          "heatmapgl": [
           {
            "colorbar": {
             "outlinewidth": 0,
             "ticks": ""
            },
            "colorscale": [
             [
              0,
              "#0d0887"
             ],
             [
              0.1111111111111111,
              "#46039f"
             ],
             [
              0.2222222222222222,
              "#7201a8"
             ],
             [
              0.3333333333333333,
              "#9c179e"
             ],
             [
              0.4444444444444444,
              "#bd3786"
             ],
             [
              0.5555555555555556,
              "#d8576b"
             ],
             [
              0.6666666666666666,
              "#ed7953"
             ],
             [
              0.7777777777777778,
              "#fb9f3a"
             ],
             [
              0.8888888888888888,
              "#fdca26"
             ],
             [
              1,
              "#f0f921"
             ]
            ],
            "type": "heatmapgl"
           }
          ],
          "histogram": [
           {
            "marker": {
             "colorbar": {
              "outlinewidth": 0,
              "ticks": ""
             }
            },
            "type": "histogram"
           }
          ],
          "histogram2d": [
           {
            "colorbar": {
             "outlinewidth": 0,
             "ticks": ""
            },
            "colorscale": [
             [
              0,
              "#0d0887"
             ],
             [
              0.1111111111111111,
              "#46039f"
             ],
             [
              0.2222222222222222,
              "#7201a8"
             ],
             [
              0.3333333333333333,
              "#9c179e"
             ],
             [
              0.4444444444444444,
              "#bd3786"
             ],
             [
              0.5555555555555556,
              "#d8576b"
             ],
             [
              0.6666666666666666,
              "#ed7953"
             ],
             [
              0.7777777777777778,
              "#fb9f3a"
             ],
             [
              0.8888888888888888,
              "#fdca26"
             ],
             [
              1,
              "#f0f921"
             ]
            ],
            "type": "histogram2d"
           }
          ],
          "histogram2dcontour": [
           {
            "colorbar": {
             "outlinewidth": 0,
             "ticks": ""
            },
            "colorscale": [
             [
              0,
              "#0d0887"
             ],
             [
              0.1111111111111111,
              "#46039f"
             ],
             [
              0.2222222222222222,
              "#7201a8"
             ],
             [
              0.3333333333333333,
              "#9c179e"
             ],
             [
              0.4444444444444444,
              "#bd3786"
             ],
             [
              0.5555555555555556,
              "#d8576b"
             ],
             [
              0.6666666666666666,
              "#ed7953"
             ],
             [
              0.7777777777777778,
              "#fb9f3a"
             ],
             [
              0.8888888888888888,
              "#fdca26"
             ],
             [
              1,
              "#f0f921"
             ]
            ],
            "type": "histogram2dcontour"
           }
          ],
          "mesh3d": [
           {
            "colorbar": {
             "outlinewidth": 0,
             "ticks": ""
            },
            "type": "mesh3d"
           }
          ],
          "parcoords": [
           {
            "line": {
             "colorbar": {
              "outlinewidth": 0,
              "ticks": ""
             }
            },
            "type": "parcoords"
           }
          ],
          "pie": [
           {
            "automargin": true,
            "type": "pie"
           }
          ],
          "scatter": [
           {
            "marker": {
             "colorbar": {
              "outlinewidth": 0,
              "ticks": ""
             }
            },
            "type": "scatter"
           }
          ],
          "scatter3d": [
           {
            "line": {
             "colorbar": {
              "outlinewidth": 0,
              "ticks": ""
             }
            },
            "marker": {
             "colorbar": {
              "outlinewidth": 0,
              "ticks": ""
             }
            },
            "type": "scatter3d"
           }
          ],
          "scattercarpet": [
           {
            "marker": {
             "colorbar": {
              "outlinewidth": 0,
              "ticks": ""
             }
            },
            "type": "scattercarpet"
           }
          ],
          "scattergeo": [
           {
            "marker": {
             "colorbar": {
              "outlinewidth": 0,
              "ticks": ""
             }
            },
            "type": "scattergeo"
           }
          ],
          "scattergl": [
           {
            "marker": {
             "colorbar": {
              "outlinewidth": 0,
              "ticks": ""
             }
            },
            "type": "scattergl"
           }
          ],
          "scattermapbox": [
           {
            "marker": {
             "colorbar": {
              "outlinewidth": 0,
              "ticks": ""
             }
            },
            "type": "scattermapbox"
           }
          ],
          "scatterpolar": [
           {
            "marker": {
             "colorbar": {
              "outlinewidth": 0,
              "ticks": ""
             }
            },
            "type": "scatterpolar"
           }
          ],
          "scatterpolargl": [
           {
            "marker": {
             "colorbar": {
              "outlinewidth": 0,
              "ticks": ""
             }
            },
            "type": "scatterpolargl"
           }
          ],
          "scatterternary": [
           {
            "marker": {
             "colorbar": {
              "outlinewidth": 0,
              "ticks": ""
             }
            },
            "type": "scatterternary"
           }
          ],
          "surface": [
           {
            "colorbar": {
             "outlinewidth": 0,
             "ticks": ""
            },
            "colorscale": [
             [
              0,
              "#0d0887"
             ],
             [
              0.1111111111111111,
              "#46039f"
             ],
             [
              0.2222222222222222,
              "#7201a8"
             ],
             [
              0.3333333333333333,
              "#9c179e"
             ],
             [
              0.4444444444444444,
              "#bd3786"
             ],
             [
              0.5555555555555556,
              "#d8576b"
             ],
             [
              0.6666666666666666,
              "#ed7953"
             ],
             [
              0.7777777777777778,
              "#fb9f3a"
             ],
             [
              0.8888888888888888,
              "#fdca26"
             ],
             [
              1,
              "#f0f921"
             ]
            ],
            "type": "surface"
           }
          ],
          "table": [
           {
            "cells": {
             "fill": {
              "color": "#EBF0F8"
             },
             "line": {
              "color": "white"
             }
            },
            "header": {
             "fill": {
              "color": "#C8D4E3"
             },
             "line": {
              "color": "white"
             }
            },
            "type": "table"
           }
          ]
         },
         "layout": {
          "annotationdefaults": {
           "arrowcolor": "#2a3f5f",
           "arrowhead": 0,
           "arrowwidth": 1
          },
          "coloraxis": {
           "colorbar": {
            "outlinewidth": 0,
            "ticks": ""
           }
          },
          "colorscale": {
           "diverging": [
            [
             0,
             "#8e0152"
            ],
            [
             0.1,
             "#c51b7d"
            ],
            [
             0.2,
             "#de77ae"
            ],
            [
             0.3,
             "#f1b6da"
            ],
            [
             0.4,
             "#fde0ef"
            ],
            [
             0.5,
             "#f7f7f7"
            ],
            [
             0.6,
             "#e6f5d0"
            ],
            [
             0.7,
             "#b8e186"
            ],
            [
             0.8,
             "#7fbc41"
            ],
            [
             0.9,
             "#4d9221"
            ],
            [
             1,
             "#276419"
            ]
           ],
           "sequential": [
            [
             0,
             "#0d0887"
            ],
            [
             0.1111111111111111,
             "#46039f"
            ],
            [
             0.2222222222222222,
             "#7201a8"
            ],
            [
             0.3333333333333333,
             "#9c179e"
            ],
            [
             0.4444444444444444,
             "#bd3786"
            ],
            [
             0.5555555555555556,
             "#d8576b"
            ],
            [
             0.6666666666666666,
             "#ed7953"
            ],
            [
             0.7777777777777778,
             "#fb9f3a"
            ],
            [
             0.8888888888888888,
             "#fdca26"
            ],
            [
             1,
             "#f0f921"
            ]
           ],
           "sequentialminus": [
            [
             0,
             "#0d0887"
            ],
            [
             0.1111111111111111,
             "#46039f"
            ],
            [
             0.2222222222222222,
             "#7201a8"
            ],
            [
             0.3333333333333333,
             "#9c179e"
            ],
            [
             0.4444444444444444,
             "#bd3786"
            ],
            [
             0.5555555555555556,
             "#d8576b"
            ],
            [
             0.6666666666666666,
             "#ed7953"
            ],
            [
             0.7777777777777778,
             "#fb9f3a"
            ],
            [
             0.8888888888888888,
             "#fdca26"
            ],
            [
             1,
             "#f0f921"
            ]
           ]
          },
          "colorway": [
           "#636efa",
           "#EF553B",
           "#00cc96",
           "#ab63fa",
           "#FFA15A",
           "#19d3f3",
           "#FF6692",
           "#B6E880",
           "#FF97FF",
           "#FECB52"
          ],
          "font": {
           "color": "#2a3f5f"
          },
          "geo": {
           "bgcolor": "white",
           "lakecolor": "white",
           "landcolor": "#E5ECF6",
           "showlakes": true,
           "showland": true,
           "subunitcolor": "white"
          },
          "hoverlabel": {
           "align": "left"
          },
          "hovermode": "closest",
          "mapbox": {
           "style": "light"
          },
          "paper_bgcolor": "white",
          "plot_bgcolor": "#E5ECF6",
          "polar": {
           "angularaxis": {
            "gridcolor": "white",
            "linecolor": "white",
            "ticks": ""
           },
           "bgcolor": "#E5ECF6",
           "radialaxis": {
            "gridcolor": "white",
            "linecolor": "white",
            "ticks": ""
           }
          },
          "scene": {
           "xaxis": {
            "backgroundcolor": "#E5ECF6",
            "gridcolor": "white",
            "gridwidth": 2,
            "linecolor": "white",
            "showbackground": true,
            "ticks": "",
            "zerolinecolor": "white"
           },
           "yaxis": {
            "backgroundcolor": "#E5ECF6",
            "gridcolor": "white",
            "gridwidth": 2,
            "linecolor": "white",
            "showbackground": true,
            "ticks": "",
            "zerolinecolor": "white"
           },
           "zaxis": {
            "backgroundcolor": "#E5ECF6",
            "gridcolor": "white",
            "gridwidth": 2,
            "linecolor": "white",
            "showbackground": true,
            "ticks": "",
            "zerolinecolor": "white"
           }
          },
          "shapedefaults": {
           "line": {
            "color": "#2a3f5f"
           }
          },
          "ternary": {
           "aaxis": {
            "gridcolor": "white",
            "linecolor": "white",
            "ticks": ""
           },
           "baxis": {
            "gridcolor": "white",
            "linecolor": "white",
            "ticks": ""
           },
           "bgcolor": "#E5ECF6",
           "caxis": {
            "gridcolor": "white",
            "linecolor": "white",
            "ticks": ""
           }
          },
          "title": {
           "x": 0.05
          },
          "xaxis": {
           "automargin": true,
           "gridcolor": "white",
           "linecolor": "white",
           "ticks": "",
           "title": {
            "standoff": 15
           },
           "zerolinecolor": "white",
           "zerolinewidth": 2
          },
          "yaxis": {
           "automargin": true,
           "gridcolor": "white",
           "linecolor": "white",
           "ticks": "",
           "title": {
            "standoff": 15
           },
           "zerolinecolor": "white",
           "zerolinewidth": 2
          }
         }
        }
       }
      },
      "text/html": [
       "<div>                            <div id=\"74aaf7fa-3412-420a-a943-afa2fa799815\" class=\"plotly-graph-div\" style=\"height:525px; width:100%;\"></div>            <script type=\"text/javascript\">                require([\"plotly\"], function(Plotly) {                    window.PLOTLYENV=window.PLOTLYENV || {};                                    if (document.getElementById(\"74aaf7fa-3412-420a-a943-afa2fa799815\")) {                    Plotly.newPlot(                        \"74aaf7fa-3412-420a-a943-afa2fa799815\",                        [{\"hovertemplate\": \"<b>%{label} </b> <br> occurrences: %{value}<extra></extra>\", \"labels\": [\"#flood\", \"#flooding\", \"#waterdamage\", \"#insurance\", \"#restoration\", \"#water\", \"#rain\", \"#fire\", \"#mold\", \"#nature\", \"#flooddamage\", \"#storm\"], \"marker\": {\"colorscale\": [[0.0, \"#636EFA\"], [0.1111111111111111, \"#EF553B\"], [0.2222222222222222, \"#00CC96\"], [0.3333333333333333, \"#AB63FA\"], [0.4444444444444444, \"#FFA15A\"], [0.5555555555555556, \"#19D3F3\"], [0.6666666666666666, \"#FF6692\"], [0.7777777777777778, \"#B6E880\"], [0.8888888888888888, \"#FF97FF\"], [1.0, \"#FECB52\"]]}, \"parents\": [\"\", \"\", \"\", \"\", \"\", \"\", \"\", \"\", \"\", \"\", \"\", \"\"], \"pathbar\": {\"visible\": false}, \"type\": \"treemap\", \"values\": [\"310\", \"120\", \"13\", \"14\", \"15\", \"20\", \"30\", \"110\", \"20\", \"136\", \"144\", \"125\"]}],                        {\"template\": {\"data\": {\"bar\": [{\"error_x\": {\"color\": \"#2a3f5f\"}, \"error_y\": {\"color\": \"#2a3f5f\"}, \"marker\": {\"line\": {\"color\": \"#E5ECF6\", \"width\": 0.5}}, \"type\": \"bar\"}], \"barpolar\": [{\"marker\": {\"line\": {\"color\": \"#E5ECF6\", \"width\": 0.5}}, \"type\": \"barpolar\"}], \"carpet\": [{\"aaxis\": {\"endlinecolor\": \"#2a3f5f\", \"gridcolor\": \"white\", \"linecolor\": \"white\", \"minorgridcolor\": \"white\", \"startlinecolor\": \"#2a3f5f\"}, \"baxis\": {\"endlinecolor\": \"#2a3f5f\", \"gridcolor\": \"white\", \"linecolor\": \"white\", \"minorgridcolor\": \"white\", \"startlinecolor\": \"#2a3f5f\"}, \"type\": \"carpet\"}], \"choropleth\": [{\"colorbar\": {\"outlinewidth\": 0, \"ticks\": \"\"}, \"type\": \"choropleth\"}], \"contour\": [{\"colorbar\": {\"outlinewidth\": 0, \"ticks\": \"\"}, \"colorscale\": [[0.0, \"#0d0887\"], [0.1111111111111111, \"#46039f\"], [0.2222222222222222, \"#7201a8\"], [0.3333333333333333, \"#9c179e\"], [0.4444444444444444, \"#bd3786\"], [0.5555555555555556, \"#d8576b\"], [0.6666666666666666, \"#ed7953\"], [0.7777777777777778, \"#fb9f3a\"], [0.8888888888888888, \"#fdca26\"], [1.0, \"#f0f921\"]], \"type\": \"contour\"}], \"contourcarpet\": [{\"colorbar\": {\"outlinewidth\": 0, \"ticks\": \"\"}, \"type\": \"contourcarpet\"}], \"heatmap\": [{\"colorbar\": {\"outlinewidth\": 0, \"ticks\": \"\"}, \"colorscale\": [[0.0, \"#0d0887\"], [0.1111111111111111, \"#46039f\"], [0.2222222222222222, \"#7201a8\"], [0.3333333333333333, \"#9c179e\"], [0.4444444444444444, \"#bd3786\"], [0.5555555555555556, \"#d8576b\"], [0.6666666666666666, \"#ed7953\"], [0.7777777777777778, \"#fb9f3a\"], [0.8888888888888888, \"#fdca26\"], [1.0, \"#f0f921\"]], \"type\": \"heatmap\"}], \"heatmapgl\": [{\"colorbar\": {\"outlinewidth\": 0, \"ticks\": \"\"}, \"colorscale\": [[0.0, \"#0d0887\"], [0.1111111111111111, \"#46039f\"], [0.2222222222222222, \"#7201a8\"], [0.3333333333333333, \"#9c179e\"], [0.4444444444444444, \"#bd3786\"], [0.5555555555555556, \"#d8576b\"], [0.6666666666666666, \"#ed7953\"], [0.7777777777777778, \"#fb9f3a\"], [0.8888888888888888, \"#fdca26\"], [1.0, \"#f0f921\"]], \"type\": \"heatmapgl\"}], \"histogram\": [{\"marker\": {\"colorbar\": {\"outlinewidth\": 0, \"ticks\": \"\"}}, \"type\": \"histogram\"}], \"histogram2d\": [{\"colorbar\": {\"outlinewidth\": 0, \"ticks\": \"\"}, \"colorscale\": [[0.0, \"#0d0887\"], [0.1111111111111111, \"#46039f\"], [0.2222222222222222, \"#7201a8\"], [0.3333333333333333, \"#9c179e\"], [0.4444444444444444, \"#bd3786\"], [0.5555555555555556, \"#d8576b\"], [0.6666666666666666, \"#ed7953\"], [0.7777777777777778, \"#fb9f3a\"], [0.8888888888888888, \"#fdca26\"], [1.0, \"#f0f921\"]], \"type\": \"histogram2d\"}], \"histogram2dcontour\": [{\"colorbar\": {\"outlinewidth\": 0, \"ticks\": \"\"}, \"colorscale\": [[0.0, \"#0d0887\"], [0.1111111111111111, \"#46039f\"], [0.2222222222222222, \"#7201a8\"], [0.3333333333333333, \"#9c179e\"], [0.4444444444444444, \"#bd3786\"], [0.5555555555555556, \"#d8576b\"], [0.6666666666666666, \"#ed7953\"], [0.7777777777777778, \"#fb9f3a\"], [0.8888888888888888, \"#fdca26\"], [1.0, \"#f0f921\"]], \"type\": \"histogram2dcontour\"}], \"mesh3d\": [{\"colorbar\": {\"outlinewidth\": 0, \"ticks\": \"\"}, \"type\": \"mesh3d\"}], \"parcoords\": [{\"line\": {\"colorbar\": {\"outlinewidth\": 0, \"ticks\": \"\"}}, \"type\": \"parcoords\"}], \"pie\": [{\"automargin\": true, \"type\": \"pie\"}], \"scatter\": [{\"marker\": {\"colorbar\": {\"outlinewidth\": 0, \"ticks\": \"\"}}, \"type\": \"scatter\"}], \"scatter3d\": [{\"line\": {\"colorbar\": {\"outlinewidth\": 0, \"ticks\": \"\"}}, \"marker\": {\"colorbar\": {\"outlinewidth\": 0, \"ticks\": \"\"}}, \"type\": \"scatter3d\"}], \"scattercarpet\": [{\"marker\": {\"colorbar\": {\"outlinewidth\": 0, \"ticks\": \"\"}}, \"type\": \"scattercarpet\"}], \"scattergeo\": [{\"marker\": {\"colorbar\": {\"outlinewidth\": 0, \"ticks\": \"\"}}, \"type\": \"scattergeo\"}], \"scattergl\": [{\"marker\": {\"colorbar\": {\"outlinewidth\": 0, \"ticks\": \"\"}}, \"type\": \"scattergl\"}], \"scattermapbox\": [{\"marker\": {\"colorbar\": {\"outlinewidth\": 0, \"ticks\": \"\"}}, \"type\": \"scattermapbox\"}], \"scatterpolar\": [{\"marker\": {\"colorbar\": {\"outlinewidth\": 0, \"ticks\": \"\"}}, \"type\": \"scatterpolar\"}], \"scatterpolargl\": [{\"marker\": {\"colorbar\": {\"outlinewidth\": 0, \"ticks\": \"\"}}, \"type\": \"scatterpolargl\"}], \"scatterternary\": [{\"marker\": {\"colorbar\": {\"outlinewidth\": 0, \"ticks\": \"\"}}, \"type\": \"scatterternary\"}], \"surface\": [{\"colorbar\": {\"outlinewidth\": 0, \"ticks\": \"\"}, \"colorscale\": [[0.0, \"#0d0887\"], [0.1111111111111111, \"#46039f\"], [0.2222222222222222, \"#7201a8\"], [0.3333333333333333, \"#9c179e\"], [0.4444444444444444, \"#bd3786\"], [0.5555555555555556, \"#d8576b\"], [0.6666666666666666, \"#ed7953\"], [0.7777777777777778, \"#fb9f3a\"], [0.8888888888888888, \"#fdca26\"], [1.0, \"#f0f921\"]], \"type\": \"surface\"}], \"table\": [{\"cells\": {\"fill\": {\"color\": \"#EBF0F8\"}, \"line\": {\"color\": \"white\"}}, \"header\": {\"fill\": {\"color\": \"#C8D4E3\"}, \"line\": {\"color\": \"white\"}}, \"type\": \"table\"}]}, \"layout\": {\"annotationdefaults\": {\"arrowcolor\": \"#2a3f5f\", \"arrowhead\": 0, \"arrowwidth\": 1}, \"coloraxis\": {\"colorbar\": {\"outlinewidth\": 0, \"ticks\": \"\"}}, \"colorscale\": {\"diverging\": [[0, \"#8e0152\"], [0.1, \"#c51b7d\"], [0.2, \"#de77ae\"], [0.3, \"#f1b6da\"], [0.4, \"#fde0ef\"], [0.5, \"#f7f7f7\"], [0.6, \"#e6f5d0\"], [0.7, \"#b8e186\"], [0.8, \"#7fbc41\"], [0.9, \"#4d9221\"], [1, \"#276419\"]], \"sequential\": [[0.0, \"#0d0887\"], [0.1111111111111111, \"#46039f\"], [0.2222222222222222, \"#7201a8\"], [0.3333333333333333, \"#9c179e\"], [0.4444444444444444, \"#bd3786\"], [0.5555555555555556, \"#d8576b\"], [0.6666666666666666, \"#ed7953\"], [0.7777777777777778, \"#fb9f3a\"], [0.8888888888888888, \"#fdca26\"], [1.0, \"#f0f921\"]], \"sequentialminus\": [[0.0, \"#0d0887\"], [0.1111111111111111, \"#46039f\"], [0.2222222222222222, \"#7201a8\"], [0.3333333333333333, \"#9c179e\"], [0.4444444444444444, \"#bd3786\"], [0.5555555555555556, \"#d8576b\"], [0.6666666666666666, \"#ed7953\"], [0.7777777777777778, \"#fb9f3a\"], [0.8888888888888888, \"#fdca26\"], [1.0, \"#f0f921\"]]}, \"colorway\": [\"#636efa\", \"#EF553B\", \"#00cc96\", \"#ab63fa\", \"#FFA15A\", \"#19d3f3\", \"#FF6692\", \"#B6E880\", \"#FF97FF\", \"#FECB52\"], \"font\": {\"color\": \"#2a3f5f\"}, \"geo\": {\"bgcolor\": \"white\", \"lakecolor\": \"white\", \"landcolor\": \"#E5ECF6\", \"showlakes\": true, \"showland\": true, \"subunitcolor\": \"white\"}, \"hoverlabel\": {\"align\": \"left\"}, \"hovermode\": \"closest\", \"mapbox\": {\"style\": \"light\"}, \"paper_bgcolor\": \"white\", \"plot_bgcolor\": \"#E5ECF6\", \"polar\": {\"angularaxis\": {\"gridcolor\": \"white\", \"linecolor\": \"white\", \"ticks\": \"\"}, \"bgcolor\": \"#E5ECF6\", \"radialaxis\": {\"gridcolor\": \"white\", \"linecolor\": \"white\", \"ticks\": \"\"}}, \"scene\": {\"xaxis\": {\"backgroundcolor\": \"#E5ECF6\", \"gridcolor\": \"white\", \"gridwidth\": 2, \"linecolor\": \"white\", \"showbackground\": true, \"ticks\": \"\", \"zerolinecolor\": \"white\"}, \"yaxis\": {\"backgroundcolor\": \"#E5ECF6\", \"gridcolor\": \"white\", \"gridwidth\": 2, \"linecolor\": \"white\", \"showbackground\": true, \"ticks\": \"\", \"zerolinecolor\": \"white\"}, \"zaxis\": {\"backgroundcolor\": \"#E5ECF6\", \"gridcolor\": \"white\", \"gridwidth\": 2, \"linecolor\": \"white\", \"showbackground\": true, \"ticks\": \"\", \"zerolinecolor\": \"white\"}}, \"shapedefaults\": {\"line\": {\"color\": \"#2a3f5f\"}}, \"ternary\": {\"aaxis\": {\"gridcolor\": \"white\", \"linecolor\": \"white\", \"ticks\": \"\"}, \"baxis\": {\"gridcolor\": \"white\", \"linecolor\": \"white\", \"ticks\": \"\"}, \"bgcolor\": \"#E5ECF6\", \"caxis\": {\"gridcolor\": \"white\", \"linecolor\": \"white\", \"ticks\": \"\"}}, \"title\": {\"x\": 0.05}, \"xaxis\": {\"automargin\": true, \"gridcolor\": \"white\", \"linecolor\": \"white\", \"ticks\": \"\", \"title\": {\"standoff\": 15}, \"zerolinecolor\": \"white\", \"zerolinewidth\": 2}, \"yaxis\": {\"automargin\": true, \"gridcolor\": \"white\", \"linecolor\": \"white\", \"ticks\": \"\", \"title\": {\"standoff\": 15}, \"zerolinecolor\": \"white\", \"zerolinewidth\": 2}}}},                        {\"responsive\": true}                    ).then(function(){\n",
       "                            \n",
       "var gd = document.getElementById('74aaf7fa-3412-420a-a943-afa2fa799815');\n",
       "var x = new MutationObserver(function (mutations, observer) {{\n",
       "        var display = window.getComputedStyle(gd).display;\n",
       "        if (!display || display === 'none') {{\n",
       "            console.log([gd, 'removed!']);\n",
       "            Plotly.purge(gd);\n",
       "            observer.disconnect();\n",
       "        }}\n",
       "}});\n",
       "\n",
       "// Listen for the removal of the full notebook cells\n",
       "var notebookContainer = gd.closest('#notebook-container');\n",
       "if (notebookContainer) {{\n",
       "    x.observe(notebookContainer, {childList: true});\n",
       "}}\n",
       "\n",
       "// Listen for the clearing of the current output cell\n",
       "var outputEl = gd.closest('.output');\n",
       "if (outputEl) {{\n",
       "    x.observe(outputEl, {childList: true});\n",
       "}}\n",
       "\n",
       "                        })                };                });            </script>        </div>"
      ]
     },
     "metadata": {},
     "output_type": "display_data"
    }
   ],
   "source": [
    "values = [\"310\", \"120\", \"13\", \"14\", \"15\", \"20\", \"30\", \"110\", \"20\", \"136\", \"144\", \"125\"]\n",
    "labels = [\"#flood\", \"#flooding\", \"#waterdamage\", \"#insurance\", \"#restoration\", \"#water\", \"#rain\", \"#fire\", \"#mold\", \"#nature\", \"#flooddamage\", \"#storm\"]\n",
    "parents = [\"\", \"\", \"\", \"\", \"\", \"\", \"\", \"\", \"\", \"\", \"\", \"\"]\n",
    "\n",
    "fig = go.Figure(go.Treemap(\n",
    "    labels=labels,\n",
    "    values=values,\n",
    "    parents=parents,\n",
    "    marker_colorscale=px.colors.qualitative.Plotly,\n",
    "    hovertemplate='<b>%{label} </b> <br> occurrences: %{value}<extra></extra>',\n",
    "    pathbar={\"visible\": False},\n",
    "))\n",
    "\n",
    "fig.show()"
   ]
  },
  {
   "cell_type": "code",
   "execution_count": null,
   "metadata": {},
   "outputs": [],
   "source": []
  }
 ],
 "metadata": {
  "kernelspec": {
   "display_name": "Python 3",
   "language": "python",
   "name": "python3"
  },
  "language_info": {
   "codemirror_mode": {
    "name": "ipython",
    "version": 3
   },
   "file_extension": ".py",
   "mimetype": "text/x-python",
   "name": "python",
   "nbconvert_exporter": "python",
   "pygments_lexer": "ipython3",
   "version": "3.7.6"
  },
  "toc": {
   "base_numbering": 1,
   "nav_menu": {},
   "number_sections": true,
   "sideBar": true,
   "skip_h1_title": false,
   "title_cell": "Table of Contents",
   "title_sidebar": "Contents",
   "toc_cell": false,
   "toc_position": {
    "height": "calc(100% - 180px)",
    "left": "10px",
    "top": "150px",
    "width": "165px"
   },
   "toc_section_display": true,
   "toc_window_display": true
  }
 },
 "nbformat": 4,
 "nbformat_minor": 4
}
